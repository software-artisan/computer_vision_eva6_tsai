{
  "nbformat": 4,
  "nbformat_minor": 0,
  "metadata": {
    "colab": {
      "name": "assignment_6_batch_norm_regularization.ipynb",
      "provenance": [],
      "collapsed_sections": [],
      "include_colab_link": true
    },
    "kernelspec": {
      "display_name": "Python 3",
      "name": "python3"
    },
    "accelerator": "GPU"
  },
  "cells": [
    {
      "cell_type": "markdown",
      "metadata": {
        "id": "view-in-github",
        "colab_type": "text"
      },
      "source": [
        "<a href=\"https://colab.research.google.com/github/software-artisan/computer_vision_eva6_tsai/blob/main/assignment_6_batch_norm_regularization.ipynb\" target=\"_parent\"><img src=\"https://colab.research.google.com/assets/colab-badge.svg\" alt=\"Open In Colab\"/></a>"
      ]
    },
    {
      "cell_type": "code",
      "metadata": {
        "id": "TpPYe-KP0ESK"
      },
      "source": [
        "import torch\n",
        "import torch.nn as nn\n",
        "import torch.nn.functional as F\n",
        "import torch.optim as optim\n",
        "from torchvision import datasets, transforms\n",
        "from torchvision.datasets import MNIST\n",
        "from collections import OrderedDict\n"
      ],
      "execution_count": 1,
      "outputs": []
    },
    {
      "cell_type": "code",
      "metadata": {
        "id": "s5TjWmnxWNWl"
      },
      "source": [
        "def get_norm_layer( norm_layer_type, num_channels, num_groups_for_group_norm=None):\n",
        "    \"\"\"\n",
        "    norm_layer_type: 'batch' | 'group' | 'layer'\n",
        "    num_channels: # of channels\n",
        "    \"\"\"\n",
        "    if norm_layer_type == \"batch\":\n",
        "        # Applies Batch Normalization over a 4D input (a mini-batch of 2D inputs with additional channel dimension) as described in the paper Batch Normalization: Accelerating Deep Network Training by Reducing Internal Covariate Shift <https://arxiv.org/abs/1502.03167>__ .        #\n",
        "        # The mean and standard-deviation are calculated per-dimension over the mini-batches and \\gamma and \\beta are learnable parameter vectors of size C (where C is the input size). By default, the elements of \\gamma are set to 1 and the elements of \\beta are set to 0. The standard-deviation is calculated via the biased estimator, equivalent to torch.var(input, unbiased=False).        #\n",
        "        # def __init__(num_features, eps=1e-05, momentum=0.1, affine=True, track_running_stats=True)\n",
        "        nl = nn.BatchNorm2d(num_features=num_channels)\n",
        "    elif norm_layer_type == \"group\":\n",
        "        # Applies Group Normalization over a mini-batch of inputs as described in the paper Group Normalization\n",
        "        # The input channels are separated into num_groups groups, each containing num_channels / num_groups channels. The mean and standard-deviation are calculated separately over the each group. \\gammaγ and \\betaβ are learnable per-channel affine transform parameter vectors of size num_channels if affine is True. The standard-deviation is calculated via the biased estimator, equivalent to torch.var(input, unbiased=False).\n",
        "        nl = nn.GroupNorm(num_groups=num_groups_for_group_norm, num_channels=num_channels)\n",
        "    elif norm_layer_type == \"layer\":\n",
        "        # a group size of '1' uses all the 'features'/channels of the image: essentially a 'layer norm'\n",
        "        nl = nn.GroupNorm(num_groups=1, num_channels=num_channels)\n",
        "\n",
        "    return nl"
      ],
      "execution_count": 2,
      "outputs": []
    },
    {
      "cell_type": "code",
      "metadata": {
        "id": "h_Cx9q2QFgM7"
      },
      "source": [
        "class Net(nn.Module):\n",
        "    def __init__(self, norm_layer_type, num_groups_for_group_norm=None):\n",
        "        \"\"\"\n",
        "        norm_layer_type: 'batch' | 'group' | 'layer'\n",
        "        \"\"\"\n",
        "        super(Net, self).__init__()\n",
        "        \n",
        "        dropout=0.05\n",
        " \n",
        "        ####### \n",
        "        # Convolution Block #1\n",
        "        #########\n",
        "        self.conv1_1_3_3_8_p = nn.Sequential(OrderedDict([\n",
        "            ('conv1_1_3_3_8_p', nn.Conv2d(in_channels=1, out_channels=8, kernel_size=3, padding=1, bias=False)),\n",
        "            ('relu', nn.ReLU()),\n",
        "            ('batchNorm2d', get_norm_layer(norm_layer_type, num_channels=8, num_groups_for_group_norm=num_groups_for_group_norm) ),\n",
        "            ('dropOut2d', nn.Dropout2d(p=dropout))\n",
        "          ])\n",
        "        ) # Input=28, Output=28, rf=3\n",
        "\n",
        "        self.conv2_8_3_3_8_p = nn.Sequential(\n",
        "            nn.Conv2d(in_channels=8, out_channels=8, kernel_size=3, padding=1, bias=False),\n",
        "            nn.ReLU(),\n",
        "            get_norm_layer(norm_layer_type, num_channels=8, num_groups_for_group_norm=num_groups_for_group_norm),\n",
        "            nn.Dropout2d(p=dropout)\n",
        "        ) # Input=28, Output=28, rf=5\n",
        " \n",
        "        self.conv3_8_3_3_8_p = nn.Sequential(\n",
        "            nn.Conv2d(in_channels=8, out_channels=8, kernel_size=3, padding=1, bias=False),\n",
        "            nn.ReLU(),\n",
        "            get_norm_layer(norm_layer_type, num_channels=8, num_groups_for_group_norm=num_groups_for_group_norm),\n",
        "            nn.Dropout2d(p=dropout) \n",
        "        ) # Input=28, Output=28, rf=10\n",
        " \n",
        "        ####### \n",
        "        # Transition Block #1\n",
        "        #########\n",
        "        self.maxpool1 = nn.MaxPool2d(kernel_size=2, stride=2) # Input=28, Output=14, rf=6\n",
        " \n",
        "        self.conv4_8_1_1_16 = nn.Sequential(\n",
        "            nn.Conv2d(in_channels=8, out_channels=12, kernel_size=1, padding=0, bias=False),\n",
        "        ) # Input=14, Output=14, rf=32\n",
        " \n",
        "        ####### \n",
        "        # Convolution Block #2\n",
        "        #########\n",
        "        self.conv5_12_3_3_12 = nn.Sequential(\n",
        "            nn.Conv2d(in_channels=12, out_channels=12, kernel_size=3, padding=0, bias=False),\n",
        "            nn.ReLU(),\n",
        "            get_norm_layer(norm_layer_type, num_channels=12, num_groups_for_group_norm=num_groups_for_group_norm),\n",
        "            nn.Dropout2d(p=dropout)\n",
        "        ) # Input=14, Output=12, rf=14\n",
        " \n",
        "        self.conv6_12_3_3_12 = nn.Sequential(\n",
        "            nn.Conv2d(in_channels=12, out_channels=12, kernel_size=3, padding=0, bias=False),\n",
        "            nn.ReLU(),\n",
        "            get_norm_layer(norm_layer_type, num_channels=12, num_groups_for_group_norm=num_groups_for_group_norm),\n",
        "            nn.Dropout2d(p=dropout) # Input=12, Output=10, rf=24\n",
        "        )\n",
        "        \n",
        "        self.conv7_12_3_3_12 = nn.Sequential(\n",
        "            nn.Conv2d(in_channels=12, out_channels=12, kernel_size=3, padding=0, bias=False),\n",
        "            nn.ReLU(),\n",
        "            get_norm_layer(norm_layer_type, num_channels=12, num_groups_for_group_norm=num_groups_for_group_norm),\n",
        "            nn.Dropout2d(p=dropout) # Input=10, Output=8, rf=24\n",
        "        )\n",
        "        \n",
        "        self.conv8_12_3_3_12 = nn.Sequential(\n",
        "            nn.Conv2d(in_channels=12, out_channels=12, kernel_size=3, padding=0, bias=False),\n",
        "            nn.ReLU(),\n",
        "            get_norm_layer(norm_layer_type, num_channels=12, num_groups_for_group_norm=num_groups_for_group_norm),\n",
        "            nn.Dropout2d(p=dropout) \n",
        "        ) # Input=8, Output=6, rf=24\n",
        "\n",
        "        self.conv9_12_3_3_12 = nn.Sequential(\n",
        "            nn.Conv2d(in_channels=12, out_channels=12, kernel_size=3, padding=0, bias=False),\n",
        "            nn.ReLU(),\n",
        "            get_norm_layer(norm_layer_type, num_channels=12, num_groups_for_group_norm=num_groups_for_group_norm),\n",
        "            nn.Dropout2d(p=dropout) \n",
        "        ) # Input=6, Output=4, rf=24\n",
        "        \n",
        "        self.maxpool2= nn.MaxPool2d(kernel_size=2, stride=2) # Input=4, Output=2, rf=16\n",
        " \n",
        "        ####### \n",
        "        # Output Block\n",
        "        #########\n",
        "        # global average pool before 1x1 to reduce computation\n",
        "        self.global_avgpool = nn.AdaptiveAvgPool2d(output_size=1)  # Input=5, Output=1, rf=40\n",
        " \n",
        "        self.conv10_16_1_1_10 = nn.Sequential(\n",
        "            #nn.Conv2d(in_channels=14, out_channels=10, kernel_size=3, padding=0, bias=False),\n",
        "            nn.Conv2d(in_channels=12, out_channels=10, kernel_size=1, padding=0, bias=False),\n",
        "        ) # Input=1, Output=1, rf=32\n",
        "    \n",
        "    def forward(self, x):\n",
        "        #####\n",
        "        # conv block #1\n",
        "        ########\n",
        "        x = self.conv1_1_3_3_8_p(x)\n",
        "        x = self.conv2_8_3_3_8_p(x)\n",
        "        x = self.conv3_8_3_3_8_p(x)\n",
        " \n",
        "        #####\n",
        "        # Transitioni block #1\n",
        "        ########\n",
        "        x = self.maxpool1(x)\n",
        "        x = self.conv4_8_1_1_16(x)\n",
        " \n",
        "        #####\n",
        "        # conv block #2\n",
        "        ########\n",
        "        x = self.conv5_12_3_3_12(x)\n",
        "        x = self.conv6_12_3_3_12(x)\n",
        "        x = self.conv7_12_3_3_12(x)\n",
        "        x = self.conv8_12_3_3_12(x)\n",
        "        x = self.conv9_12_3_3_12(x)\n",
        "\n",
        "        #######\n",
        "        # Transition block #2\n",
        "        #######\n",
        "        x = self.maxpool2(x)\n",
        " \n",
        "        #####\n",
        "        # output block\n",
        "        ########\n",
        "        x = self.global_avgpool(x)        \n",
        "        x = self.conv10_16_1_1_10(x)\n",
        "               \n",
        "        x = x.view(-1, 10)\n",
        "        return F.log_softmax(x)"
      ],
      "execution_count": 3,
      "outputs": []
    },
    {
      "cell_type": "code",
      "metadata": {
        "colab": {
          "base_uri": "https://localhost:8080/"
        },
        "id": "xdydjYTZFyi3",
        "outputId": "2f07e03a-e919-4df6-8c18-909bf9ac3077"
      },
      "source": [
        "!pip install torchsummary\n",
        "from torchsummary import summary\n",
        "use_cuda = torch.cuda.is_available()\n",
        "device = torch.device(\"cuda\" if use_cuda else \"cpu\")\n",
        "model = Net('batch').to(device)\n",
        "summary(model, input_size=(1, 28, 28))"
      ],
      "execution_count": 4,
      "outputs": [
        {
          "output_type": "stream",
          "text": [
            "Requirement already satisfied: torchsummary in /usr/local/lib/python3.7/dist-packages (1.5.1)\n",
            "----------------------------------------------------------------\n",
            "        Layer (type)               Output Shape         Param #\n",
            "================================================================\n",
            "            Conv2d-1            [-1, 8, 28, 28]              72\n",
            "              ReLU-2            [-1, 8, 28, 28]               0\n",
            "       BatchNorm2d-3            [-1, 8, 28, 28]              16\n",
            "         Dropout2d-4            [-1, 8, 28, 28]               0\n",
            "            Conv2d-5            [-1, 8, 28, 28]             576\n",
            "              ReLU-6            [-1, 8, 28, 28]               0\n",
            "       BatchNorm2d-7            [-1, 8, 28, 28]              16\n",
            "         Dropout2d-8            [-1, 8, 28, 28]               0\n",
            "            Conv2d-9            [-1, 8, 28, 28]             576\n",
            "             ReLU-10            [-1, 8, 28, 28]               0\n",
            "      BatchNorm2d-11            [-1, 8, 28, 28]              16\n",
            "        Dropout2d-12            [-1, 8, 28, 28]               0\n",
            "        MaxPool2d-13            [-1, 8, 14, 14]               0\n",
            "           Conv2d-14           [-1, 12, 14, 14]              96\n",
            "           Conv2d-15           [-1, 12, 12, 12]           1,296\n",
            "             ReLU-16           [-1, 12, 12, 12]               0\n",
            "      BatchNorm2d-17           [-1, 12, 12, 12]              24\n",
            "        Dropout2d-18           [-1, 12, 12, 12]               0\n",
            "           Conv2d-19           [-1, 12, 10, 10]           1,296\n",
            "             ReLU-20           [-1, 12, 10, 10]               0\n",
            "      BatchNorm2d-21           [-1, 12, 10, 10]              24\n",
            "        Dropout2d-22           [-1, 12, 10, 10]               0\n",
            "           Conv2d-23             [-1, 12, 8, 8]           1,296\n",
            "             ReLU-24             [-1, 12, 8, 8]               0\n",
            "      BatchNorm2d-25             [-1, 12, 8, 8]              24\n",
            "        Dropout2d-26             [-1, 12, 8, 8]               0\n",
            "           Conv2d-27             [-1, 12, 6, 6]           1,296\n",
            "             ReLU-28             [-1, 12, 6, 6]               0\n",
            "      BatchNorm2d-29             [-1, 12, 6, 6]              24\n",
            "        Dropout2d-30             [-1, 12, 6, 6]               0\n",
            "           Conv2d-31             [-1, 12, 4, 4]           1,296\n",
            "             ReLU-32             [-1, 12, 4, 4]               0\n",
            "      BatchNorm2d-33             [-1, 12, 4, 4]              24\n",
            "        Dropout2d-34             [-1, 12, 4, 4]               0\n",
            "        MaxPool2d-35             [-1, 12, 2, 2]               0\n",
            "AdaptiveAvgPool2d-36             [-1, 12, 1, 1]               0\n",
            "           Conv2d-37             [-1, 10, 1, 1]             120\n",
            "================================================================\n",
            "Total params: 8,088\n",
            "Trainable params: 8,088\n",
            "Non-trainable params: 0\n",
            "----------------------------------------------------------------\n",
            "Input size (MB): 0.00\n",
            "Forward/backward pass size (MB): 0.74\n",
            "Params size (MB): 0.03\n",
            "Estimated Total Size (MB): 0.77\n",
            "----------------------------------------------------------------\n"
          ],
          "name": "stdout"
        },
        {
          "output_type": "stream",
          "text": [
            "/usr/local/lib/python3.7/dist-packages/ipykernel_launcher.py:130: UserWarning: Implicit dimension choice for log_softmax has been deprecated. Change the call to include dim=X as an argument.\n"
          ],
          "name": "stderr"
        }
      ]
    },
    {
      "cell_type": "code",
      "metadata": {
        "id": "DqTWLaM5GHgH"
      },
      "source": [
        "# SEED=1 so that we use the same random images for training, during each mini batch, during each epoch\n",
        "SEED=1\n",
        "torch.manual_seed(SEED)\n",
        "\n",
        "batch_size = 128\n",
        "\n",
        "kwargs = {'num_workers': 1, 'pin_memory': True} if use_cuda else {}\n",
        "\n",
        "# download training data set: 50,000 images\n",
        "train_loader = torch.utils.data.DataLoader(\n",
        "    datasets.MNIST('../data', train=True, download=True,\n",
        "                    transform=transforms.Compose([\n",
        "                        transforms.RandomRotation((-7.0, 7.0), fill=(1,)),\n",
        "\n",
        "                        transforms.ToTensor(),\n",
        "                        transforms.Normalize((0.1307,), (0.3081,))\n",
        "                    ])),\n",
        "    batch_size=batch_size, shuffle=True, **kwargs)\n",
        "\n",
        "# download test data set: 10,000 images\n",
        "test_loader = torch.utils.data.DataLoader(\n",
        "    datasets.MNIST('../data', train=False, transform=transforms.Compose([\n",
        "                        transforms.ToTensor(),\n",
        "                        transforms.Normalize((0.1307,), (0.3081,))\n",
        "                    ])),\n",
        "    batch_size=batch_size, shuffle=True, **kwargs)\n"
      ],
      "execution_count": 5,
      "outputs": []
    },
    {
      "cell_type": "code",
      "metadata": {
        "id": "8fDefDhaFlwH"
      },
      "source": [
        "from tqdm import tqdm\n",
        "from dataclasses import dataclass\n",
        "from typing import Any\n",
        "\n",
        "@dataclass\n",
        "class TrainTestLossAccuracy:\n",
        "    test_loss_list:list\n",
        "    test_acc_list:list\n",
        "    train_loss_list:list\n",
        "    train_acc_list:list\n",
        "\n",
        "\n",
        "train_losses = []\n",
        "test_losses = []\n",
        "train_acc = []\n",
        "test_acc = []\n",
        "\n",
        "def train(epoch, model, device, train_loader, optimizer, train_test_loss_acc:TrainTestLossAccuracy, lambda_l1=None, num_batches=None ):\n",
        "  model.train()\n",
        "  pbar = tqdm(train_loader)\n",
        "  correct = 0\n",
        "  processed = 0\n",
        "  \n",
        "  #loss_epoch:torch.Tensor=None\n",
        "  loss_epoch:float=None\n",
        "\n",
        "  for batch_idx, (data, y_target) in enumerate(pbar):\n",
        "    # get samples of 'batchsize'        \n",
        "    data, y_target = data.to(device), y_target.to(device)  # (Pdb) p data.shape=torch.Size([128, 1, 28, 28]); #(Pdb) y_target.shape = torch.Size([128])\n",
        "\n",
        "    # So zero out the gradients before starting backpropragation because, without this, PyTorch accumulates gradients on subsequent backward passes. \n",
        "    optimizer.zero_grad()\n",
        "\n",
        "    # predict\n",
        "    y_pred = model(data)     # (Pdb) y_pred.shape = torch.Size([128, 10])\n",
        "\n",
        "    # Calculate loss\n",
        "    # input – (N, C) where N=<batch size> and C = number of classes or (N, C, H, W) in case of 2D Loss, or (N, C, d_1, d_2, ..., d_K)....\n",
        "    # target – (N) where N=<batch size> and each value is 0 < targets[i] < C-1. ...\n",
        "    loss = F.nll_loss(y_pred, y_target)     # negative log likelihood; this is a 1x1 tensor; see below\n",
        "    # print(f\"repr(loss)={repr(loss)}; loss.size()={loss.size()}\") # repr(loss)=tensor(2.4530, grad_fn=<NllLossBackward>);  tensor(2.3594, grad_fn=<AddBackward0>)\n",
        "\n",
        "    # if l1 regularization applies, do it..\n",
        "    if lambda_l1:\n",
        "      l1_loss = 0\n",
        "      for p in model.parameters():\n",
        "        l1_loss = l1_loss + p.abs().sum()\n",
        "      loss = loss + lambda_l1 * l1_loss    # add l1 loss..\n",
        "\n",
        "    train_losses.append(loss)\n",
        "    #import pdb; pdb.set_trace()\n",
        "    if not loss_epoch: \n",
        "      # loss_epoch = loss.clone().detach(); # if clone().detach() is not used, then loss_epoch and loss point to the same underlying tensor, which is not what we want; we want a copy; in addition, we do not want loss_epoch to participate in the compuation graph computed by pytorch\n",
        "      loss_epoch = loss.item()\n",
        "    else:\n",
        "      #loss_epoch = loss_epoch + loss\n",
        "      loss_epoch = loss_epoch + loss.item()\n",
        "    \n",
        "    #print(f\"repr(loss_epoch)={repr(loss_epoch)}; loss_epoch.size()={loss_epoch.size()}\")   # tensor(2.3594, grad_fn=<AddBackward0>)\n",
        "    #print(f\"repr(loss_epoch)={repr(loss_epoch)}; \")\n",
        "    #print(f\"repr(loss)={repr(loss)}; loss.size()={loss.size()}\")\n",
        "\n",
        "    loss.backward()  # do backpropagation across the graph:  dho(loss)/dho(weight)\n",
        "    optimizer.step() # adjust the weights\n",
        "\n",
        "    pred = y_pred.argmax(dim=1, keepdim=True)  # get the index of the max element\n",
        "    correct += pred.eq(y_target.view_as(pred)).sum().item()\n",
        "    processed += len(data)\n",
        "\n",
        "    pbar.set_description(desc= f'Train phase: Loss={loss.item()} Batch_id={batch_idx} Accuracy={100*correct/processed:0.2f}')\n",
        "\n",
        "    if num_batches and batch_idx == num_batches: break\n",
        "  \n",
        "  train_acc.append(100*correct/processed)\n",
        "\n",
        "  #loss_epoch /= len(train_loader.dataset)\n",
        "  train_test_loss_acc.train_loss_list.append(loss_epoch)\n",
        "  train_test_loss_acc.train_acc_list.append(100*correct/processed)\n",
        "\n",
        "  return train_test_loss_acc\n",
        "\n",
        "\n",
        "def test(epoch, model, device, test_loader,train_test_loss_acc:TrainTestLossAccuracy, num_batches=None):\n",
        "    model.eval()\n",
        "    test_loss = 0\n",
        "    correct = 0\n",
        "    with torch.no_grad():\n",
        "        for batch_idx, (data, y_target) in enumerate(test_loader):\n",
        "            data, y_target = data.to(device), y_target.to(device)\n",
        "            output = model(data)\n",
        "            test_loss += F.nll_loss(output, y_target, reduction='sum').item()  # sum up batch loss\n",
        "            pred = output.argmax(dim=1, keepdim=True)  # get the index of the max log-probability\n",
        "            correct += pred.eq(y_target.view_as(pred)).sum().item()\n",
        "\n",
        "            if num_batches and batch_idx == num_batches: break\n",
        "\n",
        "    test_loss /= len(test_loader.dataset)\n",
        "    test_losses.append(test_loss)\n",
        "    train_test_loss_acc.test_loss_list.append(test_loss)\n",
        "\n",
        "    print(f'\\nTest phase: Average loss: {test_loss:.4f}, Accuracy: {correct}/{len(test_loader.dataset)} ({100. * correct / len(test_loader.dataset):.2f}%)\\n')\n",
        "    \n",
        "    test_acc.append(100. * correct / len(test_loader.dataset))\n",
        "    train_test_loss_acc.test_acc_list.append(100. * correct / len(test_loader.dataset))"
      ],
      "execution_count": 6,
      "outputs": []
    },
    {
      "cell_type": "code",
      "metadata": {
        "id": "MMWbLWO6FuHb"
      },
      "source": [
        "from torch.optim.lr_scheduler import StepLR\n",
        "\n",
        "def run_train_and_test(epochs, norm_type, num_groups_for_group_norm=None, lambda_l1=None, lambda_l2=None, num_batches=None) -> TrainTestLossAccuracy: \n",
        "  model =  Net(norm_layer_type=norm_type, num_groups_for_group_norm=num_groups_for_group_norm).to(device)\n",
        "  \n",
        "  if lambda_l2:\n",
        "    optimizer = optim.SGD(model.parameters(), lr=0.1, momentum=0.9, weight_decay=lambda_l2)\n",
        "  else:\n",
        "    optimizer = optim.SGD(model.parameters(), lr=0.1, momentum=0.9)\n",
        "  \n",
        "  scheduler = StepLR(optimizer, step_size=3, gamma=0.09)   # after the specified 'step_size', scale(multiply) the current LR by the specified gamma..\n",
        "  \n",
        "  train_test_loss_acc = TrainTestLossAccuracy([],[],[],[])\n",
        "  for epoch in range(epochs):\n",
        "      print(\"Epoch:\", epoch+1)\n",
        "      train(epoch, model, device, train_loader, optimizer, train_test_loss_acc, lambda_l1, num_batches=num_batches)\n",
        "      test(epoch, model, device, test_loader, train_test_loss_acc, num_batches=num_batches)\n",
        "      scheduler.step()\n",
        "  \n",
        "  return train_test_loss_acc"
      ],
      "execution_count": 7,
      "outputs": []
    },
    {
      "cell_type": "markdown",
      "metadata": {
        "id": "vhLHZiQ6gZcf"
      },
      "source": [
        "# Group Normalization + L1 Regularization (Train and Test)"
      ]
    },
    {
      "cell_type": "code",
      "metadata": {
        "colab": {
          "base_uri": "https://localhost:8080/"
        },
        "id": "yMA0n3yrixnt",
        "outputId": "9ed81821-372e-439b-9b6a-b0580a67e20a"
      },
      "source": [
        "train_test_loss_acc_group:TrainTestLossAccuracy = run_train_and_test(epochs=15, norm_type='group', num_groups_for_group_norm=2, lambda_l1=0.0001) #, num_batches=2)\n",
        "#print(f\"train_test_loss_acc={train_test_loss_acc}\")"
      ],
      "execution_count": 8,
      "outputs": [
        {
          "output_type": "stream",
          "text": [
            "Epoch:"
          ],
          "name": "stdout"
        },
        {
          "output_type": "stream",
          "text": [
            "\r  0%|          | 0/469 [00:00<?, ?it/s]"
          ],
          "name": "stderr"
        },
        {
          "output_type": "stream",
          "text": [
            " 1\n"
          ],
          "name": "stdout"
        },
        {
          "output_type": "stream",
          "text": [
            "/usr/local/lib/python3.7/dist-packages/ipykernel_launcher.py:130: UserWarning: Implicit dimension choice for log_softmax has been deprecated. Change the call to include dim=X as an argument.\n",
            "Train phase: Loss=0.32082152366638184 Batch_id=468 Accuracy=87.53: 100%|██████████| 469/469 [00:16<00:00, 27.77it/s]\n",
            "  0%|          | 0/469 [00:00<?, ?it/s]"
          ],
          "name": "stderr"
        },
        {
          "output_type": "stream",
          "text": [
            "\n",
            "Test phase: Average loss: 0.1085, Accuracy: 9671/10000 (96.71%)\n",
            "\n",
            "Epoch: 2\n"
          ],
          "name": "stdout"
        },
        {
          "output_type": "stream",
          "text": [
            "Train phase: Loss=0.210923969745636 Batch_id=468 Accuracy=95.49: 100%|██████████| 469/469 [00:16<00:00, 27.82it/s]\n",
            "  0%|          | 0/469 [00:00<?, ?it/s]"
          ],
          "name": "stderr"
        },
        {
          "output_type": "stream",
          "text": [
            "\n",
            "Test phase: Average loss: 0.0720, Accuracy: 9775/10000 (97.75%)\n",
            "\n",
            "Epoch: 3\n"
          ],
          "name": "stdout"
        },
        {
          "output_type": "stream",
          "text": [
            "Train phase: Loss=0.1904183030128479 Batch_id=468 Accuracy=96.42: 100%|██████████| 469/469 [00:17<00:00, 27.38it/s]\n",
            "  0%|          | 0/469 [00:00<?, ?it/s]"
          ],
          "name": "stderr"
        },
        {
          "output_type": "stream",
          "text": [
            "\n",
            "Test phase: Average loss: 0.0766, Accuracy: 9755/10000 (97.55%)\n",
            "\n",
            "Epoch: 4\n"
          ],
          "name": "stdout"
        },
        {
          "output_type": "stream",
          "text": [
            "Train phase: Loss=0.1460486501455307 Batch_id=468 Accuracy=97.38: 100%|██████████| 469/469 [00:17<00:00, 27.09it/s]\n",
            "  0%|          | 0/469 [00:00<?, ?it/s]"
          ],
          "name": "stderr"
        },
        {
          "output_type": "stream",
          "text": [
            "\n",
            "Test phase: Average loss: 0.0406, Accuracy: 9872/10000 (98.72%)\n",
            "\n",
            "Epoch: 5\n"
          ],
          "name": "stdout"
        },
        {
          "output_type": "stream",
          "text": [
            "Train phase: Loss=0.23353645205497742 Batch_id=468 Accuracy=97.68: 100%|██████████| 469/469 [00:17<00:00, 27.17it/s]\n",
            "  0%|          | 0/469 [00:00<?, ?it/s]"
          ],
          "name": "stderr"
        },
        {
          "output_type": "stream",
          "text": [
            "\n",
            "Test phase: Average loss: 0.0379, Accuracy: 9877/10000 (98.77%)\n",
            "\n",
            "Epoch: 6\n"
          ],
          "name": "stdout"
        },
        {
          "output_type": "stream",
          "text": [
            "Train phase: Loss=0.11945942044258118 Batch_id=468 Accuracy=97.76: 100%|██████████| 469/469 [00:17<00:00, 26.60it/s]\n",
            "  0%|          | 0/469 [00:00<?, ?it/s]"
          ],
          "name": "stderr"
        },
        {
          "output_type": "stream",
          "text": [
            "\n",
            "Test phase: Average loss: 0.0368, Accuracy: 9890/10000 (98.90%)\n",
            "\n",
            "Epoch: 7\n"
          ],
          "name": "stdout"
        },
        {
          "output_type": "stream",
          "text": [
            "Train phase: Loss=0.21120452880859375 Batch_id=468 Accuracy=97.86: 100%|██████████| 469/469 [00:17<00:00, 26.53it/s]\n",
            "  0%|          | 0/469 [00:00<?, ?it/s]"
          ],
          "name": "stderr"
        },
        {
          "output_type": "stream",
          "text": [
            "\n",
            "Test phase: Average loss: 0.0360, Accuracy: 9886/10000 (98.86%)\n",
            "\n",
            "Epoch: 8\n"
          ],
          "name": "stdout"
        },
        {
          "output_type": "stream",
          "text": [
            "Train phase: Loss=0.14864788949489594 Batch_id=468 Accuracy=97.86: 100%|██████████| 469/469 [00:17<00:00, 27.17it/s]\n",
            "  0%|          | 0/469 [00:00<?, ?it/s]"
          ],
          "name": "stderr"
        },
        {
          "output_type": "stream",
          "text": [
            "\n",
            "Test phase: Average loss: 0.0357, Accuracy: 9888/10000 (98.88%)\n",
            "\n",
            "Epoch: 9\n"
          ],
          "name": "stdout"
        },
        {
          "output_type": "stream",
          "text": [
            "Train phase: Loss=0.1258319765329361 Batch_id=468 Accuracy=97.83: 100%|██████████| 469/469 [00:16<00:00, 27.64it/s]\n",
            "  0%|          | 0/469 [00:00<?, ?it/s]"
          ],
          "name": "stderr"
        },
        {
          "output_type": "stream",
          "text": [
            "\n",
            "Test phase: Average loss: 0.0354, Accuracy: 9892/10000 (98.92%)\n",
            "\n",
            "Epoch: 10\n"
          ],
          "name": "stdout"
        },
        {
          "output_type": "stream",
          "text": [
            "Train phase: Loss=0.18073013424873352 Batch_id=468 Accuracy=97.84: 100%|██████████| 469/469 [00:17<00:00, 27.45it/s]\n",
            "  0%|          | 0/469 [00:00<?, ?it/s]"
          ],
          "name": "stderr"
        },
        {
          "output_type": "stream",
          "text": [
            "\n",
            "Test phase: Average loss: 0.0354, Accuracy: 9892/10000 (98.92%)\n",
            "\n",
            "Epoch: 11\n"
          ],
          "name": "stdout"
        },
        {
          "output_type": "stream",
          "text": [
            "Train phase: Loss=0.1428346335887909 Batch_id=468 Accuracy=97.91: 100%|██████████| 469/469 [00:17<00:00, 26.68it/s]\n",
            "  0%|          | 0/469 [00:00<?, ?it/s]"
          ],
          "name": "stderr"
        },
        {
          "output_type": "stream",
          "text": [
            "\n",
            "Test phase: Average loss: 0.0354, Accuracy: 9894/10000 (98.94%)\n",
            "\n",
            "Epoch: 12\n"
          ],
          "name": "stdout"
        },
        {
          "output_type": "stream",
          "text": [
            "Train phase: Loss=0.14865554869174957 Batch_id=468 Accuracy=97.94: 100%|██████████| 469/469 [00:17<00:00, 26.70it/s]\n",
            "  0%|          | 0/469 [00:00<?, ?it/s]"
          ],
          "name": "stderr"
        },
        {
          "output_type": "stream",
          "text": [
            "\n",
            "Test phase: Average loss: 0.0354, Accuracy: 9894/10000 (98.94%)\n",
            "\n",
            "Epoch: 13\n"
          ],
          "name": "stdout"
        },
        {
          "output_type": "stream",
          "text": [
            "Train phase: Loss=0.20575594902038574 Batch_id=468 Accuracy=97.91: 100%|██████████| 469/469 [00:17<00:00, 26.33it/s]\n",
            "  0%|          | 0/469 [00:00<?, ?it/s]"
          ],
          "name": "stderr"
        },
        {
          "output_type": "stream",
          "text": [
            "\n",
            "Test phase: Average loss: 0.0354, Accuracy: 9894/10000 (98.94%)\n",
            "\n",
            "Epoch: 14\n"
          ],
          "name": "stdout"
        },
        {
          "output_type": "stream",
          "text": [
            "Train phase: Loss=0.16450434923171997 Batch_id=468 Accuracy=97.88: 100%|██████████| 469/469 [00:17<00:00, 26.58it/s]\n",
            "  0%|          | 0/469 [00:00<?, ?it/s]"
          ],
          "name": "stderr"
        },
        {
          "output_type": "stream",
          "text": [
            "\n",
            "Test phase: Average loss: 0.0354, Accuracy: 9894/10000 (98.94%)\n",
            "\n",
            "Epoch: 15\n"
          ],
          "name": "stdout"
        },
        {
          "output_type": "stream",
          "text": [
            "Train phase: Loss=0.20039743185043335 Batch_id=468 Accuracy=97.89: 100%|██████████| 469/469 [00:17<00:00, 26.49it/s]\n"
          ],
          "name": "stderr"
        },
        {
          "output_type": "stream",
          "text": [
            "\n",
            "Test phase: Average loss: 0.0354, Accuracy: 9894/10000 (98.94%)\n",
            "\n"
          ],
          "name": "stdout"
        }
      ]
    },
    {
      "cell_type": "markdown",
      "metadata": {
        "id": "7TER2apvjPZL"
      },
      "source": [
        "# Layer Normalization + L2 Regularization (train and test)"
      ]
    },
    {
      "cell_type": "code",
      "metadata": {
        "colab": {
          "base_uri": "https://localhost:8080/"
        },
        "id": "WjsZvfj1je6i",
        "outputId": "1b4ba91b-9199-47de-9ac4-56442e86c515"
      },
      "source": [
        "train_test_loss_acc_layer:TrainTestLossAccuracy = run_train_and_test(epochs=15, norm_type='layer', lambda_l2=0.0001)"
      ],
      "execution_count": 9,
      "outputs": [
        {
          "output_type": "stream",
          "text": [
            "\r  0%|          | 0/469 [00:00<?, ?it/s]"
          ],
          "name": "stderr"
        },
        {
          "output_type": "stream",
          "text": [
            "Epoch: 1\n"
          ],
          "name": "stdout"
        },
        {
          "output_type": "stream",
          "text": [
            "/usr/local/lib/python3.7/dist-packages/ipykernel_launcher.py:130: UserWarning: Implicit dimension choice for log_softmax has been deprecated. Change the call to include dim=X as an argument.\n",
            "Train phase: Loss=0.12241289019584656 Batch_id=468 Accuracy=88.75: 100%|██████████| 469/469 [00:16<00:00, 27.97it/s]\n",
            "  0%|          | 0/469 [00:00<?, ?it/s]"
          ],
          "name": "stderr"
        },
        {
          "output_type": "stream",
          "text": [
            "\n",
            "Test phase: Average loss: 0.0707, Accuracy: 9785/10000 (97.85%)\n",
            "\n",
            "Epoch: 2\n"
          ],
          "name": "stdout"
        },
        {
          "output_type": "stream",
          "text": [
            "Train phase: Loss=0.144417405128479 Batch_id=468 Accuracy=96.33: 100%|██████████| 469/469 [00:16<00:00, 28.14it/s]\n",
            "  0%|          | 0/469 [00:00<?, ?it/s]"
          ],
          "name": "stderr"
        },
        {
          "output_type": "stream",
          "text": [
            "\n",
            "Test phase: Average loss: 0.0527, Accuracy: 9845/10000 (98.45%)\n",
            "\n",
            "Epoch: 3\n"
          ],
          "name": "stdout"
        },
        {
          "output_type": "stream",
          "text": [
            "Train phase: Loss=0.03450969234108925 Batch_id=468 Accuracy=97.09: 100%|██████████| 469/469 [00:16<00:00, 28.23it/s]\n",
            "  0%|          | 0/469 [00:00<?, ?it/s]"
          ],
          "name": "stderr"
        },
        {
          "output_type": "stream",
          "text": [
            "\n",
            "Test phase: Average loss: 0.0492, Accuracy: 9860/10000 (98.60%)\n",
            "\n",
            "Epoch: 4\n"
          ],
          "name": "stdout"
        },
        {
          "output_type": "stream",
          "text": [
            "Train phase: Loss=0.07297102361917496 Batch_id=468 Accuracy=97.85: 100%|██████████| 469/469 [00:16<00:00, 28.24it/s]\n",
            "  0%|          | 0/469 [00:00<?, ?it/s]"
          ],
          "name": "stderr"
        },
        {
          "output_type": "stream",
          "text": [
            "\n",
            "Test phase: Average loss: 0.0321, Accuracy: 9895/10000 (98.95%)\n",
            "\n",
            "Epoch: 5\n"
          ],
          "name": "stdout"
        },
        {
          "output_type": "stream",
          "text": [
            "Train phase: Loss=0.016607951372861862 Batch_id=468 Accuracy=98.11: 100%|██████████| 469/469 [00:16<00:00, 28.04it/s]\n",
            "  0%|          | 0/469 [00:00<?, ?it/s]"
          ],
          "name": "stderr"
        },
        {
          "output_type": "stream",
          "text": [
            "\n",
            "Test phase: Average loss: 0.0310, Accuracy: 9901/10000 (99.01%)\n",
            "\n",
            "Epoch: 6\n"
          ],
          "name": "stdout"
        },
        {
          "output_type": "stream",
          "text": [
            "Train phase: Loss=0.12576821446418762 Batch_id=468 Accuracy=98.18: 100%|██████████| 469/469 [00:16<00:00, 28.05it/s]\n",
            "  0%|          | 0/469 [00:00<?, ?it/s]"
          ],
          "name": "stderr"
        },
        {
          "output_type": "stream",
          "text": [
            "\n",
            "Test phase: Average loss: 0.0304, Accuracy: 9904/10000 (99.04%)\n",
            "\n",
            "Epoch: 7\n"
          ],
          "name": "stdout"
        },
        {
          "output_type": "stream",
          "text": [
            "Train phase: Loss=0.015357408672571182 Batch_id=468 Accuracy=98.25: 100%|██████████| 469/469 [00:16<00:00, 27.99it/s]\n",
            "  0%|          | 0/469 [00:00<?, ?it/s]"
          ],
          "name": "stderr"
        },
        {
          "output_type": "stream",
          "text": [
            "\n",
            "Test phase: Average loss: 0.0299, Accuracy: 9906/10000 (99.06%)\n",
            "\n",
            "Epoch: 8\n"
          ],
          "name": "stdout"
        },
        {
          "output_type": "stream",
          "text": [
            "Train phase: Loss=0.05318772420287132 Batch_id=468 Accuracy=98.16: 100%|██████████| 469/469 [00:16<00:00, 28.59it/s]\n",
            "  0%|          | 0/469 [00:00<?, ?it/s]"
          ],
          "name": "stderr"
        },
        {
          "output_type": "stream",
          "text": [
            "\n",
            "Test phase: Average loss: 0.0297, Accuracy: 9904/10000 (99.04%)\n",
            "\n",
            "Epoch: 9\n"
          ],
          "name": "stdout"
        },
        {
          "output_type": "stream",
          "text": [
            "Train phase: Loss=0.015301329083740711 Batch_id=468 Accuracy=98.29: 100%|██████████| 469/469 [00:16<00:00, 28.20it/s]\n",
            "  0%|          | 0/469 [00:00<?, ?it/s]"
          ],
          "name": "stderr"
        },
        {
          "output_type": "stream",
          "text": [
            "\n",
            "Test phase: Average loss: 0.0294, Accuracy: 9910/10000 (99.10%)\n",
            "\n",
            "Epoch: 10\n"
          ],
          "name": "stdout"
        },
        {
          "output_type": "stream",
          "text": [
            "Train phase: Loss=0.08834408968687057 Batch_id=468 Accuracy=98.26: 100%|██████████| 469/469 [00:16<00:00, 27.70it/s]\n",
            "  0%|          | 0/469 [00:00<?, ?it/s]"
          ],
          "name": "stderr"
        },
        {
          "output_type": "stream",
          "text": [
            "\n",
            "Test phase: Average loss: 0.0294, Accuracy: 9910/10000 (99.10%)\n",
            "\n",
            "Epoch: 11\n"
          ],
          "name": "stdout"
        },
        {
          "output_type": "stream",
          "text": [
            "Train phase: Loss=0.014952274970710278 Batch_id=468 Accuracy=98.28: 100%|██████████| 469/469 [00:16<00:00, 28.12it/s]\n",
            "  0%|          | 0/469 [00:00<?, ?it/s]"
          ],
          "name": "stderr"
        },
        {
          "output_type": "stream",
          "text": [
            "\n",
            "Test phase: Average loss: 0.0294, Accuracy: 9909/10000 (99.09%)\n",
            "\n",
            "Epoch: 12\n"
          ],
          "name": "stdout"
        },
        {
          "output_type": "stream",
          "text": [
            "Train phase: Loss=0.23025530576705933 Batch_id=468 Accuracy=98.25: 100%|██████████| 469/469 [00:16<00:00, 28.04it/s]\n",
            "  0%|          | 0/469 [00:00<?, ?it/s]"
          ],
          "name": "stderr"
        },
        {
          "output_type": "stream",
          "text": [
            "\n",
            "Test phase: Average loss: 0.0294, Accuracy: 9908/10000 (99.08%)\n",
            "\n",
            "Epoch: 13\n"
          ],
          "name": "stdout"
        },
        {
          "output_type": "stream",
          "text": [
            "Train phase: Loss=0.05261221155524254 Batch_id=468 Accuracy=98.28: 100%|██████████| 469/469 [00:16<00:00, 28.43it/s]\n",
            "  0%|          | 0/469 [00:00<?, ?it/s]"
          ],
          "name": "stderr"
        },
        {
          "output_type": "stream",
          "text": [
            "\n",
            "Test phase: Average loss: 0.0294, Accuracy: 9908/10000 (99.08%)\n",
            "\n",
            "Epoch: 14\n"
          ],
          "name": "stdout"
        },
        {
          "output_type": "stream",
          "text": [
            "Train phase: Loss=0.04065822809934616 Batch_id=468 Accuracy=98.22: 100%|██████████| 469/469 [00:16<00:00, 28.07it/s]\n",
            "  0%|          | 0/469 [00:00<?, ?it/s]"
          ],
          "name": "stderr"
        },
        {
          "output_type": "stream",
          "text": [
            "\n",
            "Test phase: Average loss: 0.0294, Accuracy: 9908/10000 (99.08%)\n",
            "\n",
            "Epoch: 15\n"
          ],
          "name": "stdout"
        },
        {
          "output_type": "stream",
          "text": [
            "Train phase: Loss=0.03745094686746597 Batch_id=468 Accuracy=98.23: 100%|██████████| 469/469 [00:16<00:00, 28.37it/s]\n"
          ],
          "name": "stderr"
        },
        {
          "output_type": "stream",
          "text": [
            "\n",
            "Test phase: Average loss: 0.0294, Accuracy: 9908/10000 (99.08%)\n",
            "\n"
          ],
          "name": "stdout"
        }
      ]
    },
    {
      "cell_type": "markdown",
      "metadata": {
        "id": "IGA4Jeu1jo0t"
      },
      "source": [
        "# Batch Normalization + L1 + L2 Regularization (train and test)"
      ]
    },
    {
      "cell_type": "code",
      "metadata": {
        "colab": {
          "base_uri": "https://localhost:8080/"
        },
        "id": "5376K2t2jrCC",
        "outputId": "4c86e9b6-e268-4ea7-bfd9-d4e5e5d98903"
      },
      "source": [
        "train_test_loss_acc_batch:TrainTestLossAccuracy = run_train_and_test(epochs=15, norm_type='batch', lambda_l1=0.0001, lambda_l2=0.0001)"
      ],
      "execution_count": 10,
      "outputs": [
        {
          "output_type": "stream",
          "text": [
            "\r  0%|          | 0/469 [00:00<?, ?it/s]"
          ],
          "name": "stderr"
        },
        {
          "output_type": "stream",
          "text": [
            "Epoch: 1\n"
          ],
          "name": "stdout"
        },
        {
          "output_type": "stream",
          "text": [
            "/usr/local/lib/python3.7/dist-packages/ipykernel_launcher.py:130: UserWarning: Implicit dimension choice for log_softmax has been deprecated. Change the call to include dim=X as an argument.\n",
            "Train phase: Loss=0.15465107560157776 Batch_id=468 Accuracy=91.85: 100%|██████████| 469/469 [00:17<00:00, 26.99it/s]\n",
            "  0%|          | 0/469 [00:00<?, ?it/s]"
          ],
          "name": "stderr"
        },
        {
          "output_type": "stream",
          "text": [
            "\n",
            "Test phase: Average loss: 0.0560, Accuracy: 9827/10000 (98.27%)\n",
            "\n",
            "Epoch: 2\n"
          ],
          "name": "stdout"
        },
        {
          "output_type": "stream",
          "text": [
            "Train phase: Loss=0.2705262303352356 Batch_id=468 Accuracy=96.70: 100%|██████████| 469/469 [00:17<00:00, 27.15it/s]\n",
            "  0%|          | 0/469 [00:00<?, ?it/s]"
          ],
          "name": "stderr"
        },
        {
          "output_type": "stream",
          "text": [
            "\n",
            "Test phase: Average loss: 0.0497, Accuracy: 9849/10000 (98.49%)\n",
            "\n",
            "Epoch: 3\n"
          ],
          "name": "stdout"
        },
        {
          "output_type": "stream",
          "text": [
            "Train phase: Loss=0.1572943478822708 Batch_id=468 Accuracy=97.18: 100%|██████████| 469/469 [00:17<00:00, 26.68it/s]\n",
            "  0%|          | 0/469 [00:00<?, ?it/s]"
          ],
          "name": "stderr"
        },
        {
          "output_type": "stream",
          "text": [
            "\n",
            "Test phase: Average loss: 0.0373, Accuracy: 9887/10000 (98.87%)\n",
            "\n",
            "Epoch: 4\n"
          ],
          "name": "stdout"
        },
        {
          "output_type": "stream",
          "text": [
            "Train phase: Loss=0.180307537317276 Batch_id=468 Accuracy=97.98: 100%|██████████| 469/469 [00:17<00:00, 26.81it/s]\n",
            "  0%|          | 0/469 [00:00<?, ?it/s]"
          ],
          "name": "stderr"
        },
        {
          "output_type": "stream",
          "text": [
            "\n",
            "Test phase: Average loss: 0.0246, Accuracy: 9925/10000 (99.25%)\n",
            "\n",
            "Epoch: 5\n"
          ],
          "name": "stdout"
        },
        {
          "output_type": "stream",
          "text": [
            "Train phase: Loss=0.17886775732040405 Batch_id=468 Accuracy=98.22: 100%|██████████| 469/469 [00:17<00:00, 26.78it/s]\n",
            "  0%|          | 0/469 [00:00<?, ?it/s]"
          ],
          "name": "stderr"
        },
        {
          "output_type": "stream",
          "text": [
            "\n",
            "Test phase: Average loss: 0.0233, Accuracy: 9930/10000 (99.30%)\n",
            "\n",
            "Epoch: 6\n"
          ],
          "name": "stdout"
        },
        {
          "output_type": "stream",
          "text": [
            "Train phase: Loss=0.18489380180835724 Batch_id=468 Accuracy=98.43: 100%|██████████| 469/469 [00:17<00:00, 27.16it/s]\n",
            "  0%|          | 0/469 [00:00<?, ?it/s]"
          ],
          "name": "stderr"
        },
        {
          "output_type": "stream",
          "text": [
            "\n",
            "Test phase: Average loss: 0.0210, Accuracy: 9944/10000 (99.44%)\n",
            "\n",
            "Epoch: 7\n"
          ],
          "name": "stdout"
        },
        {
          "output_type": "stream",
          "text": [
            "Train phase: Loss=0.2123073935508728 Batch_id=468 Accuracy=98.42: 100%|██████████| 469/469 [00:16<00:00, 27.71it/s]\n",
            "  0%|          | 0/469 [00:00<?, ?it/s]"
          ],
          "name": "stderr"
        },
        {
          "output_type": "stream",
          "text": [
            "\n",
            "Test phase: Average loss: 0.0205, Accuracy: 9945/10000 (99.45%)\n",
            "\n",
            "Epoch: 8\n"
          ],
          "name": "stdout"
        },
        {
          "output_type": "stream",
          "text": [
            "Train phase: Loss=0.1784532368183136 Batch_id=468 Accuracy=98.39: 100%|██████████| 469/469 [00:17<00:00, 27.37it/s]\n",
            "  0%|          | 0/469 [00:00<?, ?it/s]"
          ],
          "name": "stderr"
        },
        {
          "output_type": "stream",
          "text": [
            "\n",
            "Test phase: Average loss: 0.0207, Accuracy: 9943/10000 (99.43%)\n",
            "\n",
            "Epoch: 9\n"
          ],
          "name": "stdout"
        },
        {
          "output_type": "stream",
          "text": [
            "Train phase: Loss=0.1833915114402771 Batch_id=468 Accuracy=98.47: 100%|██████████| 469/469 [00:17<00:00, 27.01it/s]\n",
            "  0%|          | 0/469 [00:00<?, ?it/s]"
          ],
          "name": "stderr"
        },
        {
          "output_type": "stream",
          "text": [
            "\n",
            "Test phase: Average loss: 0.0207, Accuracy: 9941/10000 (99.41%)\n",
            "\n",
            "Epoch: 10\n"
          ],
          "name": "stdout"
        },
        {
          "output_type": "stream",
          "text": [
            "Train phase: Loss=0.09781239926815033 Batch_id=468 Accuracy=98.45: 100%|██████████| 469/469 [00:17<00:00, 26.75it/s]\n",
            "  0%|          | 0/469 [00:00<?, ?it/s]"
          ],
          "name": "stderr"
        },
        {
          "output_type": "stream",
          "text": [
            "\n",
            "Test phase: Average loss: 0.0207, Accuracy: 9943/10000 (99.43%)\n",
            "\n",
            "Epoch: 11\n"
          ],
          "name": "stdout"
        },
        {
          "output_type": "stream",
          "text": [
            "Train phase: Loss=0.2401123344898224 Batch_id=468 Accuracy=98.45: 100%|██████████| 469/469 [00:17<00:00, 26.46it/s]\n",
            "  0%|          | 0/469 [00:00<?, ?it/s]"
          ],
          "name": "stderr"
        },
        {
          "output_type": "stream",
          "text": [
            "\n",
            "Test phase: Average loss: 0.0207, Accuracy: 9944/10000 (99.44%)\n",
            "\n",
            "Epoch: 12\n"
          ],
          "name": "stdout"
        },
        {
          "output_type": "stream",
          "text": [
            "Train phase: Loss=0.10855662077665329 Batch_id=468 Accuracy=98.47: 100%|██████████| 469/469 [00:17<00:00, 26.87it/s]\n",
            "  0%|          | 0/469 [00:00<?, ?it/s]"
          ],
          "name": "stderr"
        },
        {
          "output_type": "stream",
          "text": [
            "\n",
            "Test phase: Average loss: 0.0208, Accuracy: 9944/10000 (99.44%)\n",
            "\n",
            "Epoch: 13\n"
          ],
          "name": "stdout"
        },
        {
          "output_type": "stream",
          "text": [
            "Train phase: Loss=0.15055304765701294 Batch_id=468 Accuracy=98.50: 100%|██████████| 469/469 [00:17<00:00, 27.04it/s]\n",
            "  0%|          | 0/469 [00:00<?, ?it/s]"
          ],
          "name": "stderr"
        },
        {
          "output_type": "stream",
          "text": [
            "\n",
            "Test phase: Average loss: 0.0205, Accuracy: 9945/10000 (99.45%)\n",
            "\n",
            "Epoch: 14\n"
          ],
          "name": "stdout"
        },
        {
          "output_type": "stream",
          "text": [
            "Train phase: Loss=0.1798054277896881 Batch_id=468 Accuracy=98.54: 100%|██████████| 469/469 [00:17<00:00, 27.25it/s]\n",
            "  0%|          | 0/469 [00:00<?, ?it/s]"
          ],
          "name": "stderr"
        },
        {
          "output_type": "stream",
          "text": [
            "\n",
            "Test phase: Average loss: 0.0208, Accuracy: 9943/10000 (99.43%)\n",
            "\n",
            "Epoch: 15\n"
          ],
          "name": "stdout"
        },
        {
          "output_type": "stream",
          "text": [
            "Train phase: Loss=0.13189366459846497 Batch_id=468 Accuracy=98.42: 100%|██████████| 469/469 [00:17<00:00, 26.83it/s]\n"
          ],
          "name": "stderr"
        },
        {
          "output_type": "stream",
          "text": [
            "\n",
            "Test phase: Average loss: 0.0208, Accuracy: 9942/10000 (99.42%)\n",
            "\n"
          ],
          "name": "stdout"
        }
      ]
    },
    {
      "cell_type": "code",
      "metadata": {
        "id": "wngdFkn_1b5a",
        "colab": {
          "base_uri": "https://localhost:8080/",
          "height": 1000
        },
        "outputId": "8bf3bf20-a297-4129-b567-0d92222e31c5"
      },
      "source": [
        "import matplotlib.pyplot as plt\n",
        "def plot_train_test_loss_acc(train_test_loss_acc_group:TrainTestLossAccuracy, train_test_loss_acc_layer:TrainTestLossAccuracy, train_test_loss_acc_batch:TrainTestLossAccuracy):\n",
        "    ax_train_loss:AxesSubplot; ax_test_loss:AxesSubplot; ax_train_acc:AxesSubplot; ax_test_acc:AxesSubplot;\n",
        "    fig, (ax_train_loss, ax_test_loss,ax_train_acc,ax_test_acc) = plt.subplots(4,1, figsize=(10,40))\n",
        "\n",
        "    ax_train_loss.plot(train_test_loss_acc_group.train_loss_list, label=\"Group Norm + L1      Train loss\")\n",
        "    ax_train_loss.plot(train_test_loss_acc_layer.train_loss_list, label=\"Layer Norm + L2      Train loss\")\n",
        "    ax_train_loss.plot(train_test_loss_acc_batch.train_loss_list, label=\"Batch Norm + L1 + L2 Train loss\")\n",
        "    ax_train_loss.legend()\n",
        "    ax_train_loss.set_xlabel(\"Epoch\")\n",
        "    ax_train_loss.set_ylabel(\"Train Loss\")\n",
        "    ax_train_loss.set_title(\"Traning Losses\")\n",
        "    \n",
        "    ax_test_loss.plot(train_test_loss_acc_group.test_loss_list, label=\"Group Norm + L1      Test loss\")\n",
        "    ax_test_loss.plot(train_test_loss_acc_layer.test_loss_list, label=\"Layer Norm + L2      Test loss\")\n",
        "    ax_test_loss.plot(train_test_loss_acc_batch.test_loss_list, label=\"Batch Norm + L1 + L2 Test loss\")\n",
        "    ax_test_loss.legend()\n",
        "    ax_test_loss.set_xlabel(\"Epoch\")\n",
        "    ax_test_loss.set_ylabel(\"Test Loss\")\n",
        "    ax_test_loss.set_title(\"Test Losses\")\n",
        "\n",
        "    ax_train_acc.plot(train_test_loss_acc_group.train_acc_list, label=\"Group Norm + L1      Train accuracy\")\n",
        "    ax_train_acc.plot(train_test_loss_acc_layer.train_acc_list, label=\"Layer Norm + L2      Train accuracy\")\n",
        "    ax_train_acc.plot(train_test_loss_acc_batch.train_acc_list, label=\"Batch Norm + L1 + L2 Train accuracy\")\n",
        "    ax_train_acc.legend()\n",
        "    ax_train_acc.set_xlabel(\"Epoch\")\n",
        "    ax_train_acc.set_ylabel(\"Train Accuracy\")\n",
        "    ax_train_acc.set_title(\"Traning Accuracy\")\n",
        "\n",
        "    ax_test_acc.plot(train_test_loss_acc_group.test_acc_list, label=\"Group Norm + L1      Test accuracy\")\n",
        "    ax_test_acc.plot(train_test_loss_acc_layer.test_acc_list, label=\"Layer Norm + L2      Test accuracy\")\n",
        "    ax_test_acc.plot(train_test_loss_acc_batch.test_acc_list, label=\"Batch Norm + L1 + L2 Test accuracy\")\n",
        "    ax_test_acc.legend()\n",
        "    ax_test_acc.set_xlabel(\"Epoch\")\n",
        "    ax_test_acc.set_ylabel(\"Test Accuracy\")\n",
        "    ax_test_acc.set_title(\"Test Accuracy\")\n",
        "    \n",
        "    plt.xlabel(\"Epoch\")\n",
        "    plt.ylabel(\"Accuracy\")\n",
        "    plt.show()\n",
        "\n",
        "plot_train_test_loss_acc(train_test_loss_acc_group, train_test_loss_acc_layer, train_test_loss_acc_batch)\n",
        "# plot_train_test_loss_acc(TrainTestLossAccuracy(range(0,15), range(0,15), range(0,15), range(0,15)), \n",
        "#                          TrainTestLossAccuracy(range(1,16), range(1,16), range(1,16), range(1,16)), \n",
        "#                          TrainTestLossAccuracy(range(2,17), range(2,17), range(2,17), range(2,17)))"
      ],
      "execution_count": 11,
      "outputs": [
        {
          "output_type": "display_data",
          "data": {
            "image/png": "[encoded data removed]",
            "text/plain": [
              "<Figure size 720x2880 with 4 Axes>"
            ]
          },
          "metadata": {
            "tags": [],
            "needs_background": "light"
          }
        }
      ]
    },
    {
      "cell_type": "code",
      "metadata": {
        "id": "So5uk4EkHW6R"
      },
      "source": [
        "import matplotlib.pyplot as plt\n",
        "def plot_accuracy(train_accuracy_list, test_accuracy_list):\n",
        "    fig, axs = plt.subplots(figsize=(5,5))\n",
        "    axs.plot(train_acc, label=\"Train Accuracy\")\n",
        "    axs.plot(test_acc, label=\"Test Accuracy\")\n",
        "    axs.legend()\n",
        "    plt.xlabel(\"Epoch\")\n",
        "    plt.ylabel(\"Accuracy\")\n",
        "    plt.show()"
      ],
      "execution_count": 12,
      "outputs": []
    },
    {
      "cell_type": "code",
      "metadata": {
        "id": "B4fOu5ms0eaf",
        "colab": {
          "base_uri": "https://localhost:8080/",
          "height": 337
        },
        "outputId": "1b97fcf2-f295-46d1-a13e-207f20376afd"
      },
      "source": [
        "plot_accuracy(train_acc, test_acc)"
      ],
      "execution_count": 13,
      "outputs": [
        {
          "output_type": "display_data",
          "data": {
            "image/png": "[encoded data removed]",
            "text/plain": [
              "<Figure size 360x360 with 1 Axes>"
            ]
          },
          "metadata": {
            "tags": [],
            "needs_background": "light"
          }
        }
      ]
    }
  ]
}