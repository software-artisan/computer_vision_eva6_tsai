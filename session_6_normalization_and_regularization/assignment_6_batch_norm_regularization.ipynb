{
  "nbformat": 4,
  "nbformat_minor": 0,
  "metadata": {
    "colab": {
      "name": "assignment_6_batch_norm_regularization.ipynb",
      "provenance": [],
      "collapsed_sections": [],
      "include_colab_link": true
    },
    "kernelspec": {
      "display_name": "Python 3",
      "name": "python3"
    },
    "accelerator": "GPU"
  },
  "cells": [
    {
      "cell_type": "markdown",
      "metadata": {
        "id": "view-in-github",
        "colab_type": "text"
      },
      "source": [
        "<a href=\"https://colab.research.google.com/github/software-artisan/computer_vision_eva6_tsai/blob/main/session_6_normalization_and_regularization/assignment_6_batch_norm_regularization.ipynb\" target=\"_parent\"><img src=\"https://colab.research.google.com/assets/colab-badge.svg\" alt=\"Open In Colab\"/></a>"
      ]
    },
    {
      "cell_type": "code",
      "metadata": {
        "id": "TpPYe-KP0ESK",
        "colab": {
          "base_uri": "https://localhost:8080/"
        },
        "outputId": "6c2f7ebd-d725-4e6b-d08a-df9ac88d78ff"
      },
      "source": [
        "import torch\n",
        "import torch.nn as nn\n",
        "import torch.nn.functional as F\n",
        "import torch.optim as optim\n",
        "from torchvision import datasets, transforms\n",
        "from torchvision.datasets import MNIST\n",
        "from collections import OrderedDict\n",
        "import os\n",
        "import sys\n",
        "import shutil\n",
        "import glob\n",
        "import pdb\n",
        "\n",
        "#print(f\"os.getcwd()={os.getcwd()}\")\n",
        "#print(f\"sys.path={sys.path}\")\n",
        "\n",
        "from google.colab import drive\n",
        "drive.mount(\"/content/drive\")\n",
        "\n",
        "# copy .py files from google drive to local directory.. this will make the import easier (and this same code can be run from github as well,  where the files will be local, after commenting out the above drive code)\n",
        "# shutil.copytree(dirs_exist_ok=True) not available in python 3.7 (the colab python version).\n",
        "# shutil.copytree(\"/content/drive/MyDrive/tsai_eva6/assignment_6_files\", \".\",  )\n",
        "for filename in glob.glob(os.path.join(\"/content/drive/MyDrive/tsai_eva6/assignment_6_files\", '*.*')):\n",
        "    print(f\"copying filename={filename} to directory .\")\n",
        "    shutil.copy(filename, \".\")\n",
        "\n",
        "#!ls drive/MyDrive/tsai_eva6/assignment_6_files\n",
        "#!ls .\n",
        "\n",
        "import assignment_6_model"
      ],
      "execution_count": 1,
      "outputs": [
        {
          "output_type": "stream",
          "text": [
            "Drive already mounted at /content/drive; to attempt to forcibly remount, call drive.mount(\"/content/drive\", force_remount=True).\n",
            "copying filename=/content/drive/MyDrive/tsai_eva6/assignment_6_files/assignment_6_model.py to directory .\n"
          ],
          "name": "stdout"
        }
      ]
    },
    {
      "cell_type": "code",
      "metadata": {
        "id": "s5TjWmnxWNWl"
      },
      "source": [
        "def get_norm_layer_orig( norm_layer_type, num_channels, num_groups_for_group_norm=None):\n",
        "    \"\"\"\n",
        "    norm_layer_type: 'batch' | 'group' | 'layer'\n",
        "    num_channels: # of channels\n",
        "    \"\"\"\n",
        "    if norm_layer_type == \"batch\":\n",
        "        # Applies Batch Normalization over a 4D input (a mini-batch of 2D inputs with additional channel dimension) as described in the paper Batch Normalization: Accelerating Deep Network Training by Reducing Internal Covariate Shift <https://arxiv.org/abs/1502.03167>__ .        #\n",
        "        # The mean and standard-deviation are calculated per-dimension over the mini-batches and \\gamma and \\beta are learnable parameter vectors of size C (where C is the input size). By default, the elements of \\gamma are set to 1 and the elements of \\beta are set to 0. The standard-deviation is calculated via the biased estimator, equivalent to torch.var(input, unbiased=False).        #\n",
        "        # def __init__(num_features, eps=1e-05, momentum=0.1, affine=True, track_running_stats=True)\n",
        "        nl = nn.BatchNorm2d(num_features=num_channels)\n",
        "    elif norm_layer_type == \"group\":\n",
        "        # Applies Group Normalization over a mini-batch of inputs as described in the paper Group Normalization\n",
        "        # The input channels are separated into num_groups groups, each containing num_channels / num_groups channels. The mean and standard-deviation are calculated separately over the each group. \\gammaγ and \\betaβ are learnable per-channel affine transform parameter vectors of size num_channels if affine is True. The standard-deviation is calculated via the biased estimator, equivalent to torch.var(input, unbiased=False).\n",
        "        nl = nn.GroupNorm(num_groups=num_groups_for_group_norm, num_channels=num_channels)\n",
        "    elif norm_layer_type == \"layer\":\n",
        "        # a group size of '1' uses all the 'features'/channels of the image: essentially a 'layer norm'\n",
        "        nl = nn.GroupNorm(num_groups=1, num_channels=num_channels)\n",
        "\n",
        "    return nl"
      ],
      "execution_count": 2,
      "outputs": []
    },
    {
      "cell_type": "code",
      "metadata": {
        "id": "h_Cx9q2QFgM7"
      },
      "source": [
        "class NetOrig(nn.Module):\n",
        "    def __init__(self, norm_layer_type, num_groups_for_group_norm=None):\n",
        "        \"\"\"\n",
        "        norm_layer_type: 'batch' | 'group' | 'layer'\n",
        "        \"\"\"\n",
        "        super(Net, self).__init__()\n",
        "        \n",
        "        dropout=0.05\n",
        " \n",
        "        ####### \n",
        "        # Convolution Block #1\n",
        "        #########\n",
        "        self.conv1_1_3_3_8_p = nn.Sequential(OrderedDict([\n",
        "            ('conv1_1_3_3_8_p', nn.Conv2d(in_channels=1, out_channels=8, kernel_size=3, padding=1, bias=False)),\n",
        "            ('relu', nn.ReLU()),\n",
        "            ('batchNorm2d', get_norm_layer(norm_layer_type, num_channels=8, num_groups_for_group_norm=num_groups_for_group_norm) ),\n",
        "            ('dropOut2d', nn.Dropout2d(p=dropout))\n",
        "          ])\n",
        "        ) # Input=28, Output=28, rf=3\n",
        "\n",
        "        self.conv2_8_3_3_8_p = nn.Sequential(\n",
        "            nn.Conv2d(in_channels=8, out_channels=8, kernel_size=3, padding=1, bias=False),\n",
        "            nn.ReLU(),\n",
        "            get_norm_layer(norm_layer_type, num_channels=8, num_groups_for_group_norm=num_groups_for_group_norm),\n",
        "            nn.Dropout2d(p=dropout)\n",
        "        ) # Input=28, Output=28, rf=5\n",
        " \n",
        "        self.conv3_8_3_3_8_p = nn.Sequential(\n",
        "            nn.Conv2d(in_channels=8, out_channels=8, kernel_size=3, padding=1, bias=False),\n",
        "            nn.ReLU(),\n",
        "            get_norm_layer(norm_layer_type, num_channels=8, num_groups_for_group_norm=num_groups_for_group_norm),\n",
        "            nn.Dropout2d(p=dropout) \n",
        "        ) # Input=28, Output=28, rf=10\n",
        " \n",
        "        ####### \n",
        "        # Transition Block #1\n",
        "        #########\n",
        "        self.maxpool1 = nn.MaxPool2d(kernel_size=2, stride=2) # Input=28, Output=14, rf=6\n",
        " \n",
        "        self.conv4_8_1_1_12 = nn.Sequential(\n",
        "            nn.Conv2d(in_channels=8, out_channels=12, kernel_size=1, padding=0, bias=False),\n",
        "        ) # Input=14, Output=14, rf=32\n",
        " \n",
        "        ####### \n",
        "        # Convolution Block #2\n",
        "        #########\n",
        "        self.conv5_12_3_3_11 = nn.Sequential(\n",
        "            nn.Conv2d(in_channels=12, out_channels=12, kernel_size=3, padding=1, bias=False),\n",
        "            nn.ReLU(),\n",
        "            get_norm_layer(norm_layer_type, num_channels=12, num_groups_for_group_norm=num_groups_for_group_norm),\n",
        "            nn.Dropout2d(p=dropout)\n",
        "        ) # Input=14, Output=14, rf=14\n",
        " \n",
        "        self.conv6_11_3_3_12 = nn.Sequential(\n",
        "            nn.Conv2d(in_channels=12, out_channels=12, kernel_size=3, padding=1, bias=False),\n",
        "            nn.ReLU(),\n",
        "            get_norm_layer(norm_layer_type, num_channels=12, num_groups_for_group_norm=num_groups_for_group_norm),\n",
        "            nn.Dropout2d(p=dropout) \n",
        "        ) # Input=14, Output=14, rf=24\n",
        "        \n",
        "        self.conv7_12_3_3_12 = nn.Sequential(\n",
        "            nn.Conv2d(in_channels=12, out_channels=12, kernel_size=3, padding=1, bias=False),\n",
        "            nn.ReLU(),\n",
        "            get_norm_layer(norm_layer_type, num_channels=12, num_groups_for_group_norm=num_groups_for_group_norm),\n",
        "            nn.Dropout2d(p=dropout) \n",
        "        )# Input=14, Output=14, rf=24\n",
        "        \n",
        "        self.conv8_12_3_3_12 = nn.Sequential(\n",
        "            nn.Conv2d(in_channels=12, out_channels=12, kernel_size=3, padding=1, bias=False),\n",
        "            nn.ReLU(),\n",
        "            get_norm_layer(norm_layer_type, num_channels=12, num_groups_for_group_norm=num_groups_for_group_norm),\n",
        "            nn.Dropout2d(p=dropout) \n",
        "        ) # Input=14, Output=14, rf=24\n",
        "\n",
        "        self.conv9_12_3_3_12 = nn.Sequential(\n",
        "            nn.Conv2d(in_channels=12, out_channels=10, kernel_size=3, padding=1, bias=False),\n",
        "            nn.ReLU(),\n",
        "            get_norm_layer(norm_layer_type, num_channels=10, num_groups_for_group_norm=num_groups_for_group_norm),\n",
        "            #nn.Dropout2d(p=dropout) \n",
        "        ) # Input=14, Output=14, rf=24\n",
        "        \n",
        "        #######\n",
        "        # Transition block #2\n",
        "        #######\n",
        "        self.maxpool2= nn.MaxPool2d(kernel_size=2, stride=2) # Input=6, Output=3, chan=12, \n",
        " \n",
        "        ####### \n",
        "        # Output Block\n",
        "        #########\n",
        "        # global average pool before 1x1 to reduce computation\n",
        "        #self.global_avgpool = nn.AdaptiveAvgPool2d(output_size=1)  # Input=3, Output=1, chan=12,\n",
        "        self.global_avgpool = nn.AvgPool2d(kernel_size=10)  # Input=3, Output=1, chan=12,\n",
        " \n",
        "        self.conv10_16_1_1_10 = nn.Sequential(\n",
        "            #nn.Conv2d(in_channels=14, out_channels=10, kernel_size=3, padding=0, bias=False),\n",
        "            nn.Conv2d(in_channels=12, out_channels=10, kernel_size=1, padding=0, bias=False),\n",
        "        ) # Input=1, Output=1, chan=10, \n",
        "    \n",
        "    def forward(self, x):\n",
        "        #####\n",
        "        # conv block #1\n",
        "        ########\n",
        "        x = self.conv1_1_3_3_8_p(x)\n",
        "        x = self.conv2_8_3_3_8_p(x)\n",
        "        x = self.conv3_8_3_3_8_p(x)\n",
        " \n",
        "        #####\n",
        "        # Transitioni block #1\n",
        "        ########\n",
        "        x = self.maxpool1(x)\n",
        "        x = self.conv4_8_1_1_12(x)\n",
        " \n",
        "        #####\n",
        "        # conv block #2\n",
        "        ########\n",
        "        x = self.conv5_12_3_3_11(x)\n",
        "        x = self.conv6_11_3_3_12(x)\n",
        "        x = self.conv7_12_3_3_12(x)\n",
        "        x = self.conv8_12_3_3_12(x)\n",
        "        x = self.conv9_12_3_3_12(x)\n",
        "\n",
        "        #######\n",
        "        # Transition block #2\n",
        "        #######\n",
        "        #x = self.maxpool2(x)\n",
        " \n",
        "        #####\n",
        "        # output block\n",
        "        ########\n",
        "        x = self.global_avgpool(x)        \n",
        "        #x = self.conv10_16_1_1_10(x)\n",
        "               \n",
        "        x = x.view(-1, 10)\n",
        "        return F.log_softmax(x)"
      ],
      "execution_count": 3,
      "outputs": []
    },
    {
      "cell_type": "code",
      "metadata": {
        "colab": {
          "base_uri": "https://localhost:8080/"
        },
        "id": "xdydjYTZFyi3",
        "outputId": "75535733-ba39-4654-f9e7-aa55e4dfdc8e"
      },
      "source": [
        "!pip install torchsummary\n",
        "from torchsummary import summary\n",
        "use_cuda = torch.cuda.is_available()\n",
        "device = torch.device(\"cuda\" if use_cuda else \"cpu\")\n",
        "model = assignment_6_model.Net('batch').to(device)\n",
        "summary(model, input_size=(1, 28, 28))"
      ],
      "execution_count": 4,
      "outputs": [
        {
          "output_type": "stream",
          "text": [
            "Requirement already satisfied: torchsummary in /usr/local/lib/python3.7/dist-packages (1.5.1)\n",
            "----------------------------------------------------------------\n",
            "        Layer (type)               Output Shape         Param #\n",
            "================================================================\n",
            "            Conv2d-1            [-1, 8, 28, 28]              72\n",
            "              ReLU-2            [-1, 8, 28, 28]               0\n",
            "       BatchNorm2d-3            [-1, 8, 28, 28]              16\n",
            "         Dropout2d-4            [-1, 8, 28, 28]               0\n",
            "            Conv2d-5            [-1, 8, 28, 28]             576\n",
            "              ReLU-6            [-1, 8, 28, 28]               0\n",
            "       BatchNorm2d-7            [-1, 8, 28, 28]              16\n",
            "         Dropout2d-8            [-1, 8, 28, 28]               0\n",
            "            Conv2d-9            [-1, 8, 28, 28]             576\n",
            "             ReLU-10            [-1, 8, 28, 28]               0\n",
            "      BatchNorm2d-11            [-1, 8, 28, 28]              16\n",
            "        Dropout2d-12            [-1, 8, 28, 28]               0\n",
            "        MaxPool2d-13            [-1, 8, 14, 14]               0\n",
            "           Conv2d-14           [-1, 12, 14, 14]              96\n",
            "           Conv2d-15           [-1, 12, 14, 14]           1,296\n",
            "             ReLU-16           [-1, 12, 14, 14]               0\n",
            "      BatchNorm2d-17           [-1, 12, 14, 14]              24\n",
            "        Dropout2d-18           [-1, 12, 14, 14]               0\n",
            "           Conv2d-19           [-1, 12, 14, 14]           1,296\n",
            "             ReLU-20           [-1, 12, 14, 14]               0\n",
            "      BatchNorm2d-21           [-1, 12, 14, 14]              24\n",
            "        Dropout2d-22           [-1, 12, 14, 14]               0\n",
            "           Conv2d-23           [-1, 12, 14, 14]           1,296\n",
            "             ReLU-24           [-1, 12, 14, 14]               0\n",
            "      BatchNorm2d-25           [-1, 12, 14, 14]              24\n",
            "        Dropout2d-26           [-1, 12, 14, 14]               0\n",
            "           Conv2d-27           [-1, 12, 14, 14]           1,296\n",
            "             ReLU-28           [-1, 12, 14, 14]               0\n",
            "      BatchNorm2d-29           [-1, 12, 14, 14]              24\n",
            "        Dropout2d-30           [-1, 12, 14, 14]               0\n",
            "           Conv2d-31           [-1, 10, 14, 14]           1,080\n",
            "             ReLU-32           [-1, 10, 14, 14]               0\n",
            "      BatchNorm2d-33           [-1, 10, 14, 14]              20\n",
            "        AvgPool2d-34             [-1, 10, 1, 1]               0\n",
            "================================================================\n",
            "Total params: 7,748\n",
            "Trainable params: 7,748\n",
            "Non-trainable params: 0\n",
            "----------------------------------------------------------------\n",
            "Input size (MB): 0.00\n",
            "Forward/backward pass size (MB): 0.94\n",
            "Params size (MB): 0.03\n",
            "Estimated Total Size (MB): 0.97\n",
            "----------------------------------------------------------------\n"
          ],
          "name": "stdout"
        },
        {
          "output_type": "stream",
          "text": [
            "/usr/local/lib/python3.7/dist-packages/torch/nn/functional.py:718: UserWarning: Named tensors and all their associated APIs are an experimental feature and subject to change. Please do not use them for anything important until they are released as stable. (Triggered internally at  /pytorch/c10/core/TensorImpl.h:1156.)\n",
            "  return torch.max_pool2d(input, kernel_size, stride, padding, dilation, ceil_mode)\n",
            "/content/assignment_6_model.py:164: UserWarning: Implicit dimension choice for log_softmax has been deprecated. Change the call to include dim=X as an argument.\n",
            "  return F.log_softmax(x)\n"
          ],
          "name": "stderr"
        }
      ]
    },
    {
      "cell_type": "code",
      "metadata": {
        "id": "DqTWLaM5GHgH",
        "colab": {
          "base_uri": "https://localhost:8080/"
        },
        "outputId": "679313d2-3c46-43ef-99cf-b65373bd1b10"
      },
      "source": [
        "# SEED=1 so that we use the same random images for training, during each mini batch, during each epoch\n",
        "SEED=1\n",
        "torch.manual_seed(SEED)\n",
        "\n",
        "batch_size = 128\n",
        "\n",
        "kwargs = {'num_workers': 1, 'pin_memory': True} if use_cuda else {}\n",
        "\n",
        "# download training data set: 50,000 images\n",
        "train_loader = torch.utils.data.DataLoader(\n",
        "    datasets.MNIST('data', train=True, download=True,\n",
        "                    transform=transforms.Compose([\n",
        "                        transforms.RandomRotation((-7.0, 7.0), fill=(1,)),\n",
        "\n",
        "                        transforms.ToTensor(),\n",
        "                        transforms.Normalize((0.1307,), (0.3081,))\n",
        "                    ])),\n",
        "    batch_size=batch_size, shuffle=True, **kwargs)\n",
        "\n",
        "# download test data set: 10,000 images\n",
        "test_loader = torch.utils.data.DataLoader(\n",
        "    datasets.MNIST('data', train=False, transform=transforms.Compose([\n",
        "                        transforms.ToTensor(),\n",
        "                        transforms.Normalize((0.1307,), (0.3081,))\n",
        "                    ])),\n",
        "    batch_size=batch_size, shuffle=True, **kwargs)\n"
      ],
      "execution_count": 5,
      "outputs": [
        {
          "output_type": "stream",
          "text": [
            "/usr/local/lib/python3.7/dist-packages/torchvision/datasets/mnist.py:498: UserWarning: The given NumPy array is not writeable, and PyTorch does not support non-writeable tensors. This means you can write to the underlying (supposedly non-writeable) NumPy array using the tensor. You may want to copy the array to protect its data or make it writeable before converting it to a tensor. This type of warning will be suppressed for the rest of this program. (Triggered internally at  /pytorch/torch/csrc/utils/tensor_numpy.cpp:180.)\n",
            "  return torch.from_numpy(parsed.astype(m[2], copy=False)).view(*s)\n"
          ],
          "name": "stderr"
        }
      ]
    },
    {
      "cell_type": "code",
      "metadata": {
        "id": "8fDefDhaFlwH"
      },
      "source": [
        "from tqdm import tqdm\n",
        "from dataclasses import dataclass\n",
        "from typing import Any\n",
        "\n",
        "@dataclass\n",
        "class TrainTestLossAccuracy:\n",
        "    # test loss for each epoch\n",
        "    test_loss_list:list\n",
        "    # test accuracy for each epoch\n",
        "    test_acc_list:list\n",
        "    # training loss for each epoch\n",
        "    train_loss_list:list\n",
        "    # training accuracy for each epoch\n",
        "    train_acc_list:list\n",
        "    # list of tuples; each tuple is { incorrect_image, correct_class }\n",
        "    incorrect_image_correct_class_tuples:list\n",
        "\n",
        "\n",
        "def train_one_epoch(epoch, model, device, train_loader, optimizer, train_test_loss_acc:TrainTestLossAccuracy, lambda_l1=None, num_batches=None ):\n",
        "  model.train()\n",
        "  pbar = tqdm(train_loader)\n",
        "  correct = 0\n",
        "  processed = 0\n",
        "  \n",
        "  #loss_epoch:torch.Tensor=None\n",
        "  loss_epoch:float=None\n",
        "\n",
        "  for batch_idx, (data, y_target) in enumerate(pbar):\n",
        "    # get samples of 'batchsize'        \n",
        "    data, y_target = data.to(device), y_target.to(device)  # (Pdb) p data.shape=torch.Size([128, 1, 28, 28]); #(Pdb) y_target.shape = torch.Size([128])\n",
        "\n",
        "    # So zero out the gradients before starting backpropragation because, without this, PyTorch accumulates gradients on subsequent backward passes. \n",
        "    optimizer.zero_grad()\n",
        "\n",
        "    # predict\n",
        "    y_pred = model(data)     # (Pdb) y_pred.shape = torch.Size([128, 10])\n",
        "\n",
        "    # Calculate loss\n",
        "    # input – (N, C) where N=<batch size> and C = number of classes or (N, C, H, W) in case of 2D Loss, or (N, C, d_1, d_2, ..., d_K)....\n",
        "    # target – (N) where N=<batch size> and each value is 0 < targets[i] < C-1. ...\n",
        "    loss = F.nll_loss(y_pred, y_target)     # negative log likelihood; this is a 1x1 tensor; see below\n",
        "    # print(f\"repr(loss)={repr(loss)}; loss.size()={loss.size()}\") # repr(loss)=tensor(2.4530, grad_fn=<NllLossBackward>);  tensor(2.3594, grad_fn=<AddBackward0>)\n",
        "\n",
        "    # if l1 regularization applies, do it..\n",
        "    if lambda_l1:\n",
        "      l1_loss = 0\n",
        "      for p in model.parameters():\n",
        "        l1_loss = l1_loss + p.abs().sum()\n",
        "      loss = loss + lambda_l1 * l1_loss    # add l1 loss..\n",
        "\n",
        "    #import pdb; pdb.set_trace()\n",
        "    if not loss_epoch: \n",
        "      # loss_epoch = loss.clone().detach(); # if clone().detach() is not used, then loss_epoch and loss point to the same underlying tensor, which is not what we want; we want a copy; in addition, we do not want loss_epoch to participate in the compuation graph computed by pytorch\n",
        "      loss_epoch = loss.item()\n",
        "    else:\n",
        "      #loss_epoch = loss_epoch + loss\n",
        "      loss_epoch = loss_epoch + loss.item()\n",
        "    \n",
        "    #print(f\"repr(loss_epoch)={repr(loss_epoch)}; loss_epoch.size()={loss_epoch.size()}\")   # tensor(2.3594, grad_fn=<AddBackward0>)\n",
        "    #print(f\"repr(loss_epoch)={repr(loss_epoch)}; \")\n",
        "    #print(f\"repr(loss)={repr(loss)}; loss.size()={loss.size()}\")\n",
        "\n",
        "    loss.backward()  # do backpropagation across the graph:  dho(loss)/dho(weight)\n",
        "    optimizer.step() # adjust the weights\n",
        "\n",
        "    pred = y_pred.argmax(dim=1, keepdim=True)  # get the index of the max element\n",
        "    correct += pred.eq(y_target.view_as(pred)).sum().item()\n",
        "    processed += len(data)\n",
        "\n",
        "    pbar.set_description(desc= f'Train phase: Loss={loss.item()} Batch_id={batch_idx} Accuracy={100*correct/processed:0.2f}')\n",
        "\n",
        "    # breaking out early is useful for debugging other code: set num_batches==1 so that we finish this loop quicker instead of waiting for several seconds..\n",
        "    # if num_batches is defined and batch_idx == num_batches, then exit this loop\n",
        "    if num_batches and batch_idx == num_batches: break\n",
        "  \n",
        "  #loss_epoch /= len(train_loader.dataset)\n",
        "  train_test_loss_acc.train_loss_list.append(loss_epoch)\n",
        "  train_test_loss_acc.train_acc_list.append(100*correct/processed)\n",
        "\n",
        "  return train_test_loss_acc\n",
        "\n",
        "\n",
        "def test_one_epoch(epoch, model, device, test_loader, train_test_loss_acc:TrainTestLossAccuracy, num_batches=None, capture_incorrects=False):\n",
        "    model.eval()\n",
        "    test_loss = 0\n",
        "    correct = 0\n",
        "    with torch.no_grad():\n",
        "        for batch_idx, (data, y_target) in enumerate(test_loader):\n",
        "            data_cpu = data\n",
        "            y_target_cpu = y_target\n",
        "            data, y_target = data.to(device), y_target.to(device);  # y_target=torch.Size([128]); data.shape=torch.Size([128, 1, 28, 28]); y_target[0]=tensor(4)\n",
        "            output = model(data)    # output=torch.Size([128, 10]); output[0]=tensor([-2.6445, -1.7872, -2.3248, -2.5212, -2.5925, -2.5091, -2.1630, -2.1438,-2.2522, -2.4100])\n",
        "            test_loss += F.nll_loss(output, y_target, reduction='sum').item()  # sum up batch loss            \n",
        "            pred = output.argmax(dim=1, keepdim=True)  #pred=torch.Size([128, 1]);  get the index of the max log-probability\n",
        "            correct_vector = pred.eq(y_target.view_as(pred))  #correct_vector.shape=torch.Size([128, 1]); correct_vector=tensor([[False], [False], [False],...])\n",
        "            correct += correct_vector.sum().item()   \n",
        "\n",
        "            # if need to identify the incorrect images and number of identified incorrect images < 20\n",
        "            if capture_incorrects and len(train_test_loss_acc.incorrect_image_correct_class_tuples) < 20: \n",
        "              for i in range(len(correct_vector)):\n",
        "                if not correct_vector[i]:   # our prediction did not match the actual class\n",
        "                  train_test_loss_acc.incorrect_image_correct_class_tuples.append((data_cpu[i],pred[i], y_target_cpu[i]))  # store the pair { incorrect image, correct class }\n",
        "\n",
        "            # breaking out early is useful for debugging other code: set num_batches==1 so that we finish this loop quicker instead of waiting for several seconds..\n",
        "            # if num_batches is defined and batch_idx == num_batches, then exit this loop\n",
        "            if num_batches and batch_idx >= num_batches: break\n",
        "\n",
        "    test_loss /= len(test_loader.dataset)\n",
        "    train_test_loss_acc.test_loss_list.append(test_loss)\n",
        "\n",
        "    print(f'\\nTest phase: Average loss: {test_loss:.4f}, Accuracy: {correct}/{len(test_loader.dataset)} ({100. * correct / len(test_loader.dataset):.2f}%)\\n')\n",
        "    if capture_incorrects: print(f\"Number of incorrect images collected during test phase: {len(train_test_loss_acc.incorrect_image_correct_class_tuples)}\")\n",
        "    \n",
        "    train_test_loss_acc.test_acc_list.append(100. * correct / len(test_loader.dataset))"
      ],
      "execution_count": 6,
      "outputs": []
    },
    {
      "cell_type": "code",
      "metadata": {
        "id": "MMWbLWO6FuHb"
      },
      "source": [
        "from torch.optim.lr_scheduler import StepLR\n",
        "\n",
        "def run_train_and_test(num_epochs, norm_type, num_groups_for_group_norm=None, lambda_l1=None, lambda_l2=None, num_batches=None) -> TrainTestLossAccuracy: \n",
        "  model =  assignment_6_model.Net(norm_layer_type=norm_type, num_groups_for_group_norm=num_groups_for_group_norm).to(device)\n",
        "  \n",
        "  if lambda_l2:\n",
        "    optimizer = optim.SGD(model.parameters(), lr=0.1, momentum=0.9, weight_decay=lambda_l2)\n",
        "  else:\n",
        "    optimizer = optim.SGD(model.parameters(), lr=0.1, momentum=0.9)\n",
        "  \n",
        "  scheduler = StepLR(optimizer, step_size=3, gamma=0.09)   # after the specified 'step_size', scale(multiply) the current LR by the specified gamma..\n",
        "  \n",
        "  train_test_loss_acc = TrainTestLossAccuracy([],[],[],[],[])\n",
        "  for epoch in range(num_epochs):\n",
        "      print(\"Epoch:\", epoch+1)\n",
        "      train_one_epoch(epoch, model, device, train_loader, optimizer, train_test_loss_acc, lambda_l1, num_batches=num_batches)\n",
        "      test_one_epoch(epoch, model, device, test_loader, train_test_loss_acc, num_batches=num_batches, capture_incorrects=(epoch+1==num_epochs))\n",
        "      scheduler.step()\n",
        "  \n",
        "  return train_test_loss_acc"
      ],
      "execution_count": 7,
      "outputs": []
    },
    {
      "cell_type": "code",
      "metadata": {
        "id": "ZocOzqS1HEtc"
      },
      "source": [
        "import matplotlib.pyplot as plt\n",
        "import matplotlib\n",
        "import numpy as np\n",
        "\n",
        "def plot_incorrect_images(incorrect_image_correct_class_tuples:list):\n",
        "  fig:matplotlib.figure.Figure = plt.figure(figsize=(10,12))   # https://matplotlib.org/stable/api/_as_gen/matplotlib.pyplot.figure.html#matplotlib.pyplot.figure\n",
        "  fig.tight_layout()\n",
        "  \n",
        "\n",
        "  for i, (img, pred, correct) in enumerate(incorrect_image_correct_class_tuples[:20]):\n",
        "          #img, pred, target = img.cpu().numpy(), pred.cpu(), correct.cpu()\n",
        "          img = img.numpy()\n",
        "          \n",
        "          #img = np.transpose(img, (1, 2, 0)) / 2 + 0.5\n",
        "          img = np.squeeze(img)   # convert 1x28x28 to 28x28\n",
        "          # Three integers (nrows, ncols, index). The subplot will take the index position on a grid with nrows rows and ncols columns. index starts at 1 in the upper left corner and increases to the right. index can also be a two-tuple specifying the (first, last) indices (1-based, and including last) of the subplot, e.g., fig.add_subplot(3, 1, (1, 2)) makes a subplot that spans the upper 2/3 of the figure.\n",
        "          ax:AxesSubPlot = fig.add_subplot(5, 5, i+1)   # https://matplotlib.org/stable/api/figure_api.html#matplotlib.figure.Figure.add_subplot\n",
        "          ax.axis('off')\n",
        "          ax.set_title(f'\\nactual : {correct.item()}\\npredicted : {pred.item()}', fontsize=10)  \n",
        "          ax.imshow(img)    # https://matplotlib.org/stable/api/_as_gen/matplotlib.axes.Axes.imshow.html#matplotlib.axes.Axes.imshow\n",
        "  \n",
        "  plt.show()"
      ],
      "execution_count": 8,
      "outputs": []
    },
    {
      "cell_type": "markdown",
      "metadata": {
        "id": "vhLHZiQ6gZcf"
      },
      "source": [
        "# Group Normalization + L1 Regularization (Train and Test)"
      ]
    },
    {
      "cell_type": "code",
      "metadata": {
        "id": "yMA0n3yrixnt",
        "colab": {
          "base_uri": "https://localhost:8080/",
          "height": 1000
        },
        "outputId": "eae17e42-3ae6-447f-e9c3-4d352de27de8"
      },
      "source": [
        "print(f\"Training NN model with group normalization and layer1 regularization\")\n",
        "train_test_loss_acc_group:TrainTestLossAccuracy = run_train_and_test(num_epochs=25, norm_type='group', num_groups_for_group_norm=2, lambda_l1=0.0001) #, num_batches=1)\n",
        "print(f\"Incorrect image predictions for NN with group normalization and layer1 regularization\")\n",
        "plot_incorrect_images(train_test_loss_acc_group.incorrect_image_correct_class_tuples)"
      ],
      "execution_count": 9,
      "outputs": [
        {
          "output_type": "stream",
          "text": [
            "\r  0%|          | 0/469 [00:00<?, ?it/s]"
          ],
          "name": "stderr"
        },
        {
          "output_type": "stream",
          "text": [
            "Training NN model with group normalization and layer1 regularization\n",
            "Epoch: 1\n"
          ],
          "name": "stdout"
        },
        {
          "output_type": "stream",
          "text": [
            "/content/assignment_6_model.py:164: UserWarning: Implicit dimension choice for log_softmax has been deprecated. Change the call to include dim=X as an argument.\n",
            "  return F.log_softmax(x)\n",
            "Train phase: Loss=0.30514535307884216 Batch_id=468 Accuracy=83.89: 100%|██████████| 469/469 [00:17<00:00, 27.23it/s]\n",
            "  0%|          | 0/469 [00:00<?, ?it/s]"
          ],
          "name": "stderr"
        },
        {
          "output_type": "stream",
          "text": [
            "\n",
            "Test phase: Average loss: 0.1241, Accuracy: 9629/10000 (96.29%)\n",
            "\n",
            "Epoch: 2\n"
          ],
          "name": "stdout"
        },
        {
          "output_type": "stream",
          "text": [
            "Train phase: Loss=0.20784562826156616 Batch_id=468 Accuracy=95.35: 100%|██████████| 469/469 [00:17<00:00, 27.37it/s]\n",
            "  0%|          | 0/469 [00:00<?, ?it/s]"
          ],
          "name": "stderr"
        },
        {
          "output_type": "stream",
          "text": [
            "\n",
            "Test phase: Average loss: 0.0754, Accuracy: 9777/10000 (97.77%)\n",
            "\n",
            "Epoch: 3\n"
          ],
          "name": "stdout"
        },
        {
          "output_type": "stream",
          "text": [
            "Train phase: Loss=0.23818232119083405 Batch_id=468 Accuracy=96.28: 100%|██████████| 469/469 [00:17<00:00, 26.93it/s]\n",
            "  0%|          | 0/469 [00:00<?, ?it/s]"
          ],
          "name": "stderr"
        },
        {
          "output_type": "stream",
          "text": [
            "\n",
            "Test phase: Average loss: 0.0560, Accuracy: 9827/10000 (98.27%)\n",
            "\n",
            "Epoch: 4\n"
          ],
          "name": "stdout"
        },
        {
          "output_type": "stream",
          "text": [
            "Train phase: Loss=0.20363007485866547 Batch_id=468 Accuracy=97.73: 100%|██████████| 469/469 [00:17<00:00, 27.10it/s]\n",
            "  0%|          | 0/469 [00:00<?, ?it/s]"
          ],
          "name": "stderr"
        },
        {
          "output_type": "stream",
          "text": [
            "\n",
            "Test phase: Average loss: 0.0390, Accuracy: 9882/10000 (98.82%)\n",
            "\n",
            "Epoch: 5\n"
          ],
          "name": "stdout"
        },
        {
          "output_type": "stream",
          "text": [
            "Train phase: Loss=0.15336310863494873 Batch_id=468 Accuracy=97.89: 100%|██████████| 469/469 [00:17<00:00, 26.42it/s]\n",
            "  0%|          | 0/469 [00:00<?, ?it/s]"
          ],
          "name": "stderr"
        },
        {
          "output_type": "stream",
          "text": [
            "\n",
            "Test phase: Average loss: 0.0372, Accuracy: 9884/10000 (98.84%)\n",
            "\n",
            "Epoch: 6\n"
          ],
          "name": "stdout"
        },
        {
          "output_type": "stream",
          "text": [
            "Train phase: Loss=0.18501131236553192 Batch_id=468 Accuracy=97.94: 100%|██████████| 469/469 [00:17<00:00, 27.24it/s]\n",
            "  0%|          | 0/469 [00:00<?, ?it/s]"
          ],
          "name": "stderr"
        },
        {
          "output_type": "stream",
          "text": [
            "\n",
            "Test phase: Average loss: 0.0350, Accuracy: 9893/10000 (98.93%)\n",
            "\n",
            "Epoch: 7\n"
          ],
          "name": "stdout"
        },
        {
          "output_type": "stream",
          "text": [
            "Train phase: Loss=0.13257157802581787 Batch_id=468 Accuracy=98.06: 100%|██████████| 469/469 [00:17<00:00, 26.41it/s]\n",
            "  0%|          | 0/469 [00:00<?, ?it/s]"
          ],
          "name": "stderr"
        },
        {
          "output_type": "stream",
          "text": [
            "\n",
            "Test phase: Average loss: 0.0341, Accuracy: 9899/10000 (98.99%)\n",
            "\n",
            "Epoch: 8\n"
          ],
          "name": "stdout"
        },
        {
          "output_type": "stream",
          "text": [
            "Train phase: Loss=0.18835031986236572 Batch_id=468 Accuracy=98.08: 100%|██████████| 469/469 [00:18<00:00, 25.21it/s]\n",
            "  0%|          | 0/469 [00:00<?, ?it/s]"
          ],
          "name": "stderr"
        },
        {
          "output_type": "stream",
          "text": [
            "\n",
            "Test phase: Average loss: 0.0339, Accuracy: 9900/10000 (99.00%)\n",
            "\n",
            "Epoch: 9\n"
          ],
          "name": "stdout"
        },
        {
          "output_type": "stream",
          "text": [
            "Train phase: Loss=0.15330424904823303 Batch_id=468 Accuracy=98.11: 100%|██████████| 469/469 [00:18<00:00, 25.28it/s]\n",
            "  0%|          | 0/469 [00:00<?, ?it/s]"
          ],
          "name": "stderr"
        },
        {
          "output_type": "stream",
          "text": [
            "\n",
            "Test phase: Average loss: 0.0335, Accuracy: 9896/10000 (98.96%)\n",
            "\n",
            "Epoch: 10\n"
          ],
          "name": "stdout"
        },
        {
          "output_type": "stream",
          "text": [
            "Train phase: Loss=0.13910043239593506 Batch_id=468 Accuracy=98.06: 100%|██████████| 469/469 [00:18<00:00, 26.00it/s]\n",
            "  0%|          | 0/469 [00:00<?, ?it/s]"
          ],
          "name": "stderr"
        },
        {
          "output_type": "stream",
          "text": [
            "\n",
            "Test phase: Average loss: 0.0334, Accuracy: 9897/10000 (98.97%)\n",
            "\n",
            "Epoch: 11\n"
          ],
          "name": "stdout"
        },
        {
          "output_type": "stream",
          "text": [
            "Train phase: Loss=0.17493508756160736 Batch_id=468 Accuracy=98.15: 100%|██████████| 469/469 [00:17<00:00, 26.62it/s]\n",
            "  0%|          | 0/469 [00:00<?, ?it/s]"
          ],
          "name": "stderr"
        },
        {
          "output_type": "stream",
          "text": [
            "\n",
            "Test phase: Average loss: 0.0335, Accuracy: 9896/10000 (98.96%)\n",
            "\n",
            "Epoch: 12\n"
          ],
          "name": "stdout"
        },
        {
          "output_type": "stream",
          "text": [
            "Train phase: Loss=0.1522420346736908 Batch_id=468 Accuracy=98.11: 100%|██████████| 469/469 [00:17<00:00, 26.54it/s]\n",
            "  0%|          | 0/469 [00:00<?, ?it/s]"
          ],
          "name": "stderr"
        },
        {
          "output_type": "stream",
          "text": [
            "\n",
            "Test phase: Average loss: 0.0335, Accuracy: 9896/10000 (98.96%)\n",
            "\n",
            "Epoch: 13\n"
          ],
          "name": "stdout"
        },
        {
          "output_type": "stream",
          "text": [
            "Train phase: Loss=0.1637684404850006 Batch_id=468 Accuracy=98.08: 100%|██████████| 469/469 [00:17<00:00, 26.32it/s]\n",
            "  0%|          | 0/469 [00:00<?, ?it/s]"
          ],
          "name": "stderr"
        },
        {
          "output_type": "stream",
          "text": [
            "\n",
            "Test phase: Average loss: 0.0334, Accuracy: 9897/10000 (98.97%)\n",
            "\n",
            "Epoch: 14\n"
          ],
          "name": "stdout"
        },
        {
          "output_type": "stream",
          "text": [
            "Train phase: Loss=0.19218283891677856 Batch_id=468 Accuracy=98.10: 100%|██████████| 469/469 [00:17<00:00, 26.44it/s]\n",
            "  0%|          | 0/469 [00:00<?, ?it/s]"
          ],
          "name": "stderr"
        },
        {
          "output_type": "stream",
          "text": [
            "\n",
            "Test phase: Average loss: 0.0334, Accuracy: 9897/10000 (98.97%)\n",
            "\n",
            "Epoch: 15\n"
          ],
          "name": "stdout"
        },
        {
          "output_type": "stream",
          "text": [
            "Train phase: Loss=0.29068833589553833 Batch_id=468 Accuracy=98.19: 100%|██████████| 469/469 [00:17<00:00, 26.46it/s]\n",
            "  0%|          | 0/469 [00:00<?, ?it/s]"
          ],
          "name": "stderr"
        },
        {
          "output_type": "stream",
          "text": [
            "\n",
            "Test phase: Average loss: 0.0335, Accuracy: 9897/10000 (98.97%)\n",
            "\n",
            "Epoch: 16\n"
          ],
          "name": "stdout"
        },
        {
          "output_type": "stream",
          "text": [
            "Train phase: Loss=0.14787925779819489 Batch_id=468 Accuracy=98.16: 100%|██████████| 469/469 [00:17<00:00, 26.72it/s]\n",
            "  0%|          | 0/469 [00:00<?, ?it/s]"
          ],
          "name": "stderr"
        },
        {
          "output_type": "stream",
          "text": [
            "\n",
            "Test phase: Average loss: 0.0335, Accuracy: 9897/10000 (98.97%)\n",
            "\n",
            "Epoch: 17\n"
          ],
          "name": "stdout"
        },
        {
          "output_type": "stream",
          "text": [
            "Train phase: Loss=0.13248246908187866 Batch_id=468 Accuracy=98.08: 100%|██████████| 469/469 [00:17<00:00, 26.34it/s]\n",
            "  0%|          | 0/469 [00:00<?, ?it/s]"
          ],
          "name": "stderr"
        },
        {
          "output_type": "stream",
          "text": [
            "\n",
            "Test phase: Average loss: 0.0335, Accuracy: 9897/10000 (98.97%)\n",
            "\n",
            "Epoch: 18\n"
          ],
          "name": "stdout"
        },
        {
          "output_type": "stream",
          "text": [
            "Train phase: Loss=0.17834755778312683 Batch_id=468 Accuracy=98.07: 100%|██████████| 469/469 [00:17<00:00, 26.93it/s]\n",
            "  0%|          | 0/469 [00:00<?, ?it/s]"
          ],
          "name": "stderr"
        },
        {
          "output_type": "stream",
          "text": [
            "\n",
            "Test phase: Average loss: 0.0335, Accuracy: 9897/10000 (98.97%)\n",
            "\n",
            "Epoch: 19\n"
          ],
          "name": "stdout"
        },
        {
          "output_type": "stream",
          "text": [
            "Train phase: Loss=0.16657176613807678 Batch_id=468 Accuracy=98.09: 100%|██████████| 469/469 [00:17<00:00, 26.61it/s]\n",
            "  0%|          | 0/469 [00:00<?, ?it/s]"
          ],
          "name": "stderr"
        },
        {
          "output_type": "stream",
          "text": [
            "\n",
            "Test phase: Average loss: 0.0335, Accuracy: 9897/10000 (98.97%)\n",
            "\n",
            "Epoch: 20\n"
          ],
          "name": "stdout"
        },
        {
          "output_type": "stream",
          "text": [
            "Train phase: Loss=0.1734563261270523 Batch_id=468 Accuracy=98.07: 100%|██████████| 469/469 [00:17<00:00, 26.26it/s]\n",
            "  0%|          | 0/469 [00:00<?, ?it/s]"
          ],
          "name": "stderr"
        },
        {
          "output_type": "stream",
          "text": [
            "\n",
            "Test phase: Average loss: 0.0335, Accuracy: 9897/10000 (98.97%)\n",
            "\n",
            "Epoch: 21\n"
          ],
          "name": "stdout"
        },
        {
          "output_type": "stream",
          "text": [
            "Train phase: Loss=0.14887621998786926 Batch_id=468 Accuracy=98.05: 100%|██████████| 469/469 [00:17<00:00, 26.65it/s]\n",
            "  0%|          | 0/469 [00:00<?, ?it/s]"
          ],
          "name": "stderr"
        },
        {
          "output_type": "stream",
          "text": [
            "\n",
            "Test phase: Average loss: 0.0335, Accuracy: 9897/10000 (98.97%)\n",
            "\n",
            "Epoch: 22\n"
          ],
          "name": "stdout"
        },
        {
          "output_type": "stream",
          "text": [
            "Train phase: Loss=0.12662269175052643 Batch_id=468 Accuracy=98.11: 100%|██████████| 469/469 [00:17<00:00, 26.46it/s]\n",
            "  0%|          | 0/469 [00:00<?, ?it/s]"
          ],
          "name": "stderr"
        },
        {
          "output_type": "stream",
          "text": [
            "\n",
            "Test phase: Average loss: 0.0335, Accuracy: 9897/10000 (98.97%)\n",
            "\n",
            "Epoch: 23\n"
          ],
          "name": "stdout"
        },
        {
          "output_type": "stream",
          "text": [
            "Train phase: Loss=0.12904024124145508 Batch_id=468 Accuracy=98.14: 100%|██████████| 469/469 [00:17<00:00, 26.30it/s]\n",
            "  0%|          | 0/469 [00:00<?, ?it/s]"
          ],
          "name": "stderr"
        },
        {
          "output_type": "stream",
          "text": [
            "\n",
            "Test phase: Average loss: 0.0335, Accuracy: 9897/10000 (98.97%)\n",
            "\n",
            "Epoch: 24\n"
          ],
          "name": "stdout"
        },
        {
          "output_type": "stream",
          "text": [
            "Train phase: Loss=0.1555950939655304 Batch_id=468 Accuracy=98.11: 100%|██████████| 469/469 [00:18<00:00, 25.86it/s]\n",
            "  0%|          | 0/469 [00:00<?, ?it/s]"
          ],
          "name": "stderr"
        },
        {
          "output_type": "stream",
          "text": [
            "\n",
            "Test phase: Average loss: 0.0335, Accuracy: 9897/10000 (98.97%)\n",
            "\n",
            "Epoch: 25\n"
          ],
          "name": "stdout"
        },
        {
          "output_type": "stream",
          "text": [
            "Train phase: Loss=0.12928083539009094 Batch_id=468 Accuracy=98.05: 100%|██████████| 469/469 [00:18<00:00, 25.60it/s]\n"
          ],
          "name": "stderr"
        },
        {
          "output_type": "stream",
          "text": [
            "\n",
            "Test phase: Average loss: 0.0335, Accuracy: 9897/10000 (98.97%)\n",
            "\n",
            "Number of incorrect images collected during test phase: 20\n",
            "Incorrect image predictions for NN with group normalization and layer1 regularization\n"
          ],
          "name": "stdout"
        },
        {
          "output_type": "display_data",
          "data": {
            "image/png": "[encoded data removed]",
            "text/plain": [
              "<Figure size 720x864 with 20 Axes>"
            ]
          },
          "metadata": {
            "tags": [],
            "needs_background": "light"
          }
        }
      ]
    },
    {
      "cell_type": "markdown",
      "metadata": {
        "id": "7TER2apvjPZL"
      },
      "source": [
        "# Layer Normalization + L2 Regularization (train and test)"
      ]
    },
    {
      "cell_type": "code",
      "metadata": {
        "id": "WjsZvfj1je6i",
        "colab": {
          "base_uri": "https://localhost:8080/",
          "height": 1000
        },
        "outputId": "daec9824-c258-4bcb-a4d2-d79501c69215"
      },
      "source": [
        "print(f\"Training NN model with layer normalization and layer2 regularization\")\n",
        "train_test_loss_acc_layer:TrainTestLossAccuracy = run_train_and_test(num_epochs=25, norm_type='layer', lambda_l2=0.0001) #, num_batches=1)\n",
        "print(f\"Incorrect image predictions for NN with layer normalization and layer2 regularization\")\n",
        "plot_incorrect_images(train_test_loss_acc_layer.incorrect_image_correct_class_tuples)"
      ],
      "execution_count": 10,
      "outputs": [
        {
          "output_type": "stream",
          "text": [
            "\r  0%|          | 0/469 [00:00<?, ?it/s]"
          ],
          "name": "stderr"
        },
        {
          "output_type": "stream",
          "text": [
            "Training NN model with layer normalization and layer2 regularization\n",
            "Epoch: 1\n"
          ],
          "name": "stdout"
        },
        {
          "output_type": "stream",
          "text": [
            "/content/assignment_6_model.py:164: UserWarning: Implicit dimension choice for log_softmax has been deprecated. Change the call to include dim=X as an argument.\n",
            "  return F.log_softmax(x)\n",
            "Train phase: Loss=0.10927000641822815 Batch_id=468 Accuracy=79.42: 100%|██████████| 469/469 [00:16<00:00, 27.90it/s]\n",
            "  0%|          | 0/469 [00:00<?, ?it/s]"
          ],
          "name": "stderr"
        },
        {
          "output_type": "stream",
          "text": [
            "\n",
            "Test phase: Average loss: 0.1276, Accuracy: 9617/10000 (96.17%)\n",
            "\n",
            "Epoch: 2\n"
          ],
          "name": "stdout"
        },
        {
          "output_type": "stream",
          "text": [
            "Train phase: Loss=0.1855887919664383 Batch_id=468 Accuracy=94.64: 100%|██████████| 469/469 [00:17<00:00, 27.46it/s]\n",
            "  0%|          | 0/469 [00:00<?, ?it/s]"
          ],
          "name": "stderr"
        },
        {
          "output_type": "stream",
          "text": [
            "\n",
            "Test phase: Average loss: 0.0729, Accuracy: 9785/10000 (97.85%)\n",
            "\n",
            "Epoch: 3\n"
          ],
          "name": "stdout"
        },
        {
          "output_type": "stream",
          "text": [
            "Train phase: Loss=0.14640310406684875 Batch_id=468 Accuracy=96.14: 100%|██████████| 469/469 [00:16<00:00, 27.86it/s]\n",
            "  0%|          | 0/469 [00:00<?, ?it/s]"
          ],
          "name": "stderr"
        },
        {
          "output_type": "stream",
          "text": [
            "\n",
            "Test phase: Average loss: 0.0553, Accuracy: 9825/10000 (98.25%)\n",
            "\n",
            "Epoch: 4\n"
          ],
          "name": "stdout"
        },
        {
          "output_type": "stream",
          "text": [
            "Train phase: Loss=0.0933116152882576 Batch_id=468 Accuracy=97.47: 100%|██████████| 469/469 [00:17<00:00, 27.27it/s]\n",
            "  0%|          | 0/469 [00:00<?, ?it/s]"
          ],
          "name": "stderr"
        },
        {
          "output_type": "stream",
          "text": [
            "\n",
            "Test phase: Average loss: 0.0410, Accuracy: 9880/10000 (98.80%)\n",
            "\n",
            "Epoch: 5\n"
          ],
          "name": "stdout"
        },
        {
          "output_type": "stream",
          "text": [
            "Train phase: Loss=0.07526858896017075 Batch_id=468 Accuracy=97.63: 100%|██████████| 469/469 [00:17<00:00, 27.42it/s]\n",
            "  0%|          | 0/469 [00:00<?, ?it/s]"
          ],
          "name": "stderr"
        },
        {
          "output_type": "stream",
          "text": [
            "\n",
            "Test phase: Average loss: 0.0404, Accuracy: 9877/10000 (98.77%)\n",
            "\n",
            "Epoch: 6\n"
          ],
          "name": "stdout"
        },
        {
          "output_type": "stream",
          "text": [
            "Train phase: Loss=0.08886060863733292 Batch_id=468 Accuracy=97.72: 100%|██████████| 469/469 [00:17<00:00, 27.29it/s]\n",
            "  0%|          | 0/469 [00:00<?, ?it/s]"
          ],
          "name": "stderr"
        },
        {
          "output_type": "stream",
          "text": [
            "\n",
            "Test phase: Average loss: 0.0379, Accuracy: 9888/10000 (98.88%)\n",
            "\n",
            "Epoch: 7\n"
          ],
          "name": "stdout"
        },
        {
          "output_type": "stream",
          "text": [
            "Train phase: Loss=0.040377940982580185 Batch_id=468 Accuracy=97.75: 100%|██████████| 469/469 [00:17<00:00, 27.13it/s]\n",
            "  0%|          | 0/469 [00:00<?, ?it/s]"
          ],
          "name": "stderr"
        },
        {
          "output_type": "stream",
          "text": [
            "\n",
            "Test phase: Average loss: 0.0378, Accuracy: 9889/10000 (98.89%)\n",
            "\n",
            "Epoch: 8\n"
          ],
          "name": "stdout"
        },
        {
          "output_type": "stream",
          "text": [
            "Train phase: Loss=0.0958656445145607 Batch_id=468 Accuracy=97.81: 100%|██████████| 469/469 [00:17<00:00, 27.55it/s]\n",
            "  0%|          | 0/469 [00:00<?, ?it/s]"
          ],
          "name": "stderr"
        },
        {
          "output_type": "stream",
          "text": [
            "\n",
            "Test phase: Average loss: 0.0379, Accuracy: 9886/10000 (98.86%)\n",
            "\n",
            "Epoch: 9\n"
          ],
          "name": "stdout"
        },
        {
          "output_type": "stream",
          "text": [
            "Train phase: Loss=0.04520183429121971 Batch_id=468 Accuracy=97.85: 100%|██████████| 469/469 [00:16<00:00, 27.80it/s]\n",
            "  0%|          | 0/469 [00:00<?, ?it/s]"
          ],
          "name": "stderr"
        },
        {
          "output_type": "stream",
          "text": [
            "\n",
            "Test phase: Average loss: 0.0373, Accuracy: 9886/10000 (98.86%)\n",
            "\n",
            "Epoch: 10\n"
          ],
          "name": "stdout"
        },
        {
          "output_type": "stream",
          "text": [
            "Train phase: Loss=0.04683789610862732 Batch_id=468 Accuracy=97.83: 100%|██████████| 469/469 [00:16<00:00, 28.14it/s]\n",
            "  0%|          | 0/469 [00:00<?, ?it/s]"
          ],
          "name": "stderr"
        },
        {
          "output_type": "stream",
          "text": [
            "\n",
            "Test phase: Average loss: 0.0373, Accuracy: 9885/10000 (98.85%)\n",
            "\n",
            "Epoch: 11\n"
          ],
          "name": "stdout"
        },
        {
          "output_type": "stream",
          "text": [
            "Train phase: Loss=0.10692289471626282 Batch_id=468 Accuracy=97.86: 100%|██████████| 469/469 [00:17<00:00, 27.36it/s]\n",
            "  0%|          | 0/469 [00:00<?, ?it/s]"
          ],
          "name": "stderr"
        },
        {
          "output_type": "stream",
          "text": [
            "\n",
            "Test phase: Average loss: 0.0373, Accuracy: 9887/10000 (98.87%)\n",
            "\n",
            "Epoch: 12\n"
          ],
          "name": "stdout"
        },
        {
          "output_type": "stream",
          "text": [
            "Train phase: Loss=0.10643401741981506 Batch_id=468 Accuracy=97.83: 100%|██████████| 469/469 [00:16<00:00, 27.69it/s]\n",
            "  0%|          | 0/469 [00:00<?, ?it/s]"
          ],
          "name": "stderr"
        },
        {
          "output_type": "stream",
          "text": [
            "\n",
            "Test phase: Average loss: 0.0372, Accuracy: 9887/10000 (98.87%)\n",
            "\n",
            "Epoch: 13\n"
          ],
          "name": "stdout"
        },
        {
          "output_type": "stream",
          "text": [
            "Train phase: Loss=0.06661459058523178 Batch_id=468 Accuracy=97.83: 100%|██████████| 469/469 [00:16<00:00, 27.84it/s]\n",
            "  0%|          | 0/469 [00:00<?, ?it/s]"
          ],
          "name": "stderr"
        },
        {
          "output_type": "stream",
          "text": [
            "\n",
            "Test phase: Average loss: 0.0372, Accuracy: 9887/10000 (98.87%)\n",
            "\n",
            "Epoch: 14\n"
          ],
          "name": "stdout"
        },
        {
          "output_type": "stream",
          "text": [
            "Train phase: Loss=0.08745592087507248 Batch_id=468 Accuracy=97.78: 100%|██████████| 469/469 [00:16<00:00, 28.01it/s]\n",
            "  0%|          | 0/469 [00:00<?, ?it/s]"
          ],
          "name": "stderr"
        },
        {
          "output_type": "stream",
          "text": [
            "\n",
            "Test phase: Average loss: 0.0372, Accuracy: 9887/10000 (98.87%)\n",
            "\n",
            "Epoch: 15\n"
          ],
          "name": "stdout"
        },
        {
          "output_type": "stream",
          "text": [
            "Train phase: Loss=0.06975383311510086 Batch_id=468 Accuracy=97.84: 100%|██████████| 469/469 [00:17<00:00, 27.23it/s]\n",
            "  0%|          | 0/469 [00:00<?, ?it/s]"
          ],
          "name": "stderr"
        },
        {
          "output_type": "stream",
          "text": [
            "\n",
            "Test phase: Average loss: 0.0372, Accuracy: 9887/10000 (98.87%)\n",
            "\n",
            "Epoch: 16\n"
          ],
          "name": "stdout"
        },
        {
          "output_type": "stream",
          "text": [
            "Train phase: Loss=0.11240171641111374 Batch_id=468 Accuracy=97.82: 100%|██████████| 469/469 [00:17<00:00, 26.83it/s]\n",
            "  0%|          | 0/469 [00:00<?, ?it/s]"
          ],
          "name": "stderr"
        },
        {
          "output_type": "stream",
          "text": [
            "\n",
            "Test phase: Average loss: 0.0372, Accuracy: 9887/10000 (98.87%)\n",
            "\n",
            "Epoch: 17\n"
          ],
          "name": "stdout"
        },
        {
          "output_type": "stream",
          "text": [
            "Train phase: Loss=0.02629692107439041 Batch_id=468 Accuracy=97.79: 100%|██████████| 469/469 [00:17<00:00, 27.05it/s]\n",
            "  0%|          | 0/469 [00:00<?, ?it/s]"
          ],
          "name": "stderr"
        },
        {
          "output_type": "stream",
          "text": [
            "\n",
            "Test phase: Average loss: 0.0372, Accuracy: 9887/10000 (98.87%)\n",
            "\n",
            "Epoch: 18\n"
          ],
          "name": "stdout"
        },
        {
          "output_type": "stream",
          "text": [
            "Train phase: Loss=0.07583799213171005 Batch_id=468 Accuracy=97.85: 100%|██████████| 469/469 [00:17<00:00, 26.92it/s]\n",
            "  0%|          | 0/469 [00:00<?, ?it/s]"
          ],
          "name": "stderr"
        },
        {
          "output_type": "stream",
          "text": [
            "\n",
            "Test phase: Average loss: 0.0372, Accuracy: 9887/10000 (98.87%)\n",
            "\n",
            "Epoch: 19\n"
          ],
          "name": "stdout"
        },
        {
          "output_type": "stream",
          "text": [
            "Train phase: Loss=0.05244627594947815 Batch_id=468 Accuracy=97.77: 100%|██████████| 469/469 [00:17<00:00, 27.41it/s]\n",
            "  0%|          | 0/469 [00:00<?, ?it/s]"
          ],
          "name": "stderr"
        },
        {
          "output_type": "stream",
          "text": [
            "\n",
            "Test phase: Average loss: 0.0372, Accuracy: 9887/10000 (98.87%)\n",
            "\n",
            "Epoch: 20\n"
          ],
          "name": "stdout"
        },
        {
          "output_type": "stream",
          "text": [
            "Train phase: Loss=0.06501846015453339 Batch_id=468 Accuracy=97.81: 100%|██████████| 469/469 [00:17<00:00, 27.24it/s]\n",
            "  0%|          | 0/469 [00:00<?, ?it/s]"
          ],
          "name": "stderr"
        },
        {
          "output_type": "stream",
          "text": [
            "\n",
            "Test phase: Average loss: 0.0372, Accuracy: 9887/10000 (98.87%)\n",
            "\n",
            "Epoch: 21\n"
          ],
          "name": "stdout"
        },
        {
          "output_type": "stream",
          "text": [
            "Train phase: Loss=0.060740817338228226 Batch_id=468 Accuracy=97.85: 100%|██████████| 469/469 [00:17<00:00, 26.80it/s]\n",
            "  0%|          | 0/469 [00:00<?, ?it/s]"
          ],
          "name": "stderr"
        },
        {
          "output_type": "stream",
          "text": [
            "\n",
            "Test phase: Average loss: 0.0372, Accuracy: 9887/10000 (98.87%)\n",
            "\n",
            "Epoch: 22\n"
          ],
          "name": "stdout"
        },
        {
          "output_type": "stream",
          "text": [
            "Train phase: Loss=0.06550221890211105 Batch_id=468 Accuracy=97.84: 100%|██████████| 469/469 [00:17<00:00, 27.12it/s]\n",
            "  0%|          | 0/469 [00:00<?, ?it/s]"
          ],
          "name": "stderr"
        },
        {
          "output_type": "stream",
          "text": [
            "\n",
            "Test phase: Average loss: 0.0372, Accuracy: 9887/10000 (98.87%)\n",
            "\n",
            "Epoch: 23\n"
          ],
          "name": "stdout"
        },
        {
          "output_type": "stream",
          "text": [
            "Train phase: Loss=0.12595327198505402 Batch_id=468 Accuracy=97.76: 100%|██████████| 469/469 [00:17<00:00, 26.60it/s]\n",
            "  0%|          | 0/469 [00:00<?, ?it/s]"
          ],
          "name": "stderr"
        },
        {
          "output_type": "stream",
          "text": [
            "\n",
            "Test phase: Average loss: 0.0372, Accuracy: 9887/10000 (98.87%)\n",
            "\n",
            "Epoch: 24\n"
          ],
          "name": "stdout"
        },
        {
          "output_type": "stream",
          "text": [
            "Train phase: Loss=0.02072388492524624 Batch_id=468 Accuracy=97.90: 100%|██████████| 469/469 [00:17<00:00, 27.12it/s]\n",
            "  0%|          | 0/469 [00:00<?, ?it/s]"
          ],
          "name": "stderr"
        },
        {
          "output_type": "stream",
          "text": [
            "\n",
            "Test phase: Average loss: 0.0372, Accuracy: 9887/10000 (98.87%)\n",
            "\n",
            "Epoch: 25\n"
          ],
          "name": "stdout"
        },
        {
          "output_type": "stream",
          "text": [
            "Train phase: Loss=0.08712917566299438 Batch_id=468 Accuracy=97.74: 100%|██████████| 469/469 [00:17<00:00, 27.02it/s]\n"
          ],
          "name": "stderr"
        },
        {
          "output_type": "stream",
          "text": [
            "\n",
            "Test phase: Average loss: 0.0372, Accuracy: 9887/10000 (98.87%)\n",
            "\n",
            "Number of incorrect images collected during test phase: 20\n",
            "Incorrect image predictions for NN with layer normalization and layer2 regularization\n"
          ],
          "name": "stdout"
        },
        {
          "output_type": "display_data",
          "data": {
            "image/png": "[encoded data removed]",
            "text/plain": [
              "<Figure size 720x864 with 20 Axes>"
            ]
          },
          "metadata": {
            "tags": [],
            "needs_background": "light"
          }
        }
      ]
    },
    {
      "cell_type": "markdown",
      "metadata": {
        "id": "IGA4Jeu1jo0t"
      },
      "source": [
        "# Batch Normalization + L1 + L2 Regularization (train and test)"
      ]
    },
    {
      "cell_type": "code",
      "metadata": {
        "colab": {
          "base_uri": "https://localhost:8080/",
          "height": 1000
        },
        "id": "5376K2t2jrCC",
        "outputId": "55c1357f-15c7-49b7-b10c-ce38a449b5f7"
      },
      "source": [
        "print(f\"Training NN model with batch normalization, layer 1 and layer 2 regularization\")\n",
        "train_test_loss_acc_batch:TrainTestLossAccuracy = run_train_and_test(num_epochs=25, norm_type='batch', lambda_l1=0.0001, lambda_l2=0.0001) #, num_batches=1)\n",
        "print(f\"Incorrect image predictions for NN with batch normalization, layer 1 and layer 2 regularization\")\n",
        "plot_incorrect_images(train_test_loss_acc_batch.incorrect_image_correct_class_tuples)"
      ],
      "execution_count": 11,
      "outputs": [
        {
          "output_type": "stream",
          "text": [
            "\r  0%|          | 0/469 [00:00<?, ?it/s]"
          ],
          "name": "stderr"
        },
        {
          "output_type": "stream",
          "text": [
            "Training NN model with batch normalization, layer 1 and layer 2 regularization\n",
            "Epoch: 1\n"
          ],
          "name": "stdout"
        },
        {
          "output_type": "stream",
          "text": [
            "/content/assignment_6_model.py:164: UserWarning: Implicit dimension choice for log_softmax has been deprecated. Change the call to include dim=X as an argument.\n",
            "  return F.log_softmax(x)\n",
            "Train phase: Loss=0.21669882535934448 Batch_id=468 Accuracy=88.14: 100%|██████████| 469/469 [00:17<00:00, 26.20it/s]\n",
            "  0%|          | 0/469 [00:00<?, ?it/s]"
          ],
          "name": "stderr"
        },
        {
          "output_type": "stream",
          "text": [
            "\n",
            "Test phase: Average loss: 0.0970, Accuracy: 9722/10000 (97.22%)\n",
            "\n",
            "Epoch: 2\n"
          ],
          "name": "stdout"
        },
        {
          "output_type": "stream",
          "text": [
            "Train phase: Loss=0.2172466516494751 Batch_id=468 Accuracy=95.55: 100%|██████████| 469/469 [00:18<00:00, 25.90it/s]\n",
            "  0%|          | 0/469 [00:00<?, ?it/s]"
          ],
          "name": "stderr"
        },
        {
          "output_type": "stream",
          "text": [
            "\n",
            "Test phase: Average loss: 0.0759, Accuracy: 9777/10000 (97.77%)\n",
            "\n",
            "Epoch: 3\n"
          ],
          "name": "stdout"
        },
        {
          "output_type": "stream",
          "text": [
            "Train phase: Loss=0.28568750619888306 Batch_id=468 Accuracy=96.36: 100%|██████████| 469/469 [00:17<00:00, 26.12it/s]\n",
            "  0%|          | 0/469 [00:00<?, ?it/s]"
          ],
          "name": "stderr"
        },
        {
          "output_type": "stream",
          "text": [
            "\n",
            "Test phase: Average loss: 0.0529, Accuracy: 9851/10000 (98.51%)\n",
            "\n",
            "Epoch: 4\n"
          ],
          "name": "stdout"
        },
        {
          "output_type": "stream",
          "text": [
            "Train phase: Loss=0.1614505797624588 Batch_id=468 Accuracy=97.54: 100%|██████████| 469/469 [00:17<00:00, 26.20it/s]\n",
            "  0%|          | 0/469 [00:00<?, ?it/s]"
          ],
          "name": "stderr"
        },
        {
          "output_type": "stream",
          "text": [
            "\n",
            "Test phase: Average loss: 0.0315, Accuracy: 9917/10000 (99.17%)\n",
            "\n",
            "Epoch: 5\n"
          ],
          "name": "stdout"
        },
        {
          "output_type": "stream",
          "text": [
            "Train phase: Loss=0.13821467757225037 Batch_id=468 Accuracy=97.91: 100%|██████████| 469/469 [00:18<00:00, 25.93it/s]\n",
            "  0%|          | 0/469 [00:00<?, ?it/s]"
          ],
          "name": "stderr"
        },
        {
          "output_type": "stream",
          "text": [
            "\n",
            "Test phase: Average loss: 0.0307, Accuracy: 9914/10000 (99.14%)\n",
            "\n",
            "Epoch: 6\n"
          ],
          "name": "stdout"
        },
        {
          "output_type": "stream",
          "text": [
            "Train phase: Loss=0.25649482011795044 Batch_id=468 Accuracy=97.84: 100%|██████████| 469/469 [00:17<00:00, 26.16it/s]\n",
            "  0%|          | 0/469 [00:00<?, ?it/s]"
          ],
          "name": "stderr"
        },
        {
          "output_type": "stream",
          "text": [
            "\n",
            "Test phase: Average loss: 0.0285, Accuracy: 9919/10000 (99.19%)\n",
            "\n",
            "Epoch: 7\n"
          ],
          "name": "stdout"
        },
        {
          "output_type": "stream",
          "text": [
            "Train phase: Loss=0.13568581640720367 Batch_id=468 Accuracy=97.92: 100%|██████████| 469/469 [00:17<00:00, 26.14it/s]\n",
            "  0%|          | 0/469 [00:00<?, ?it/s]"
          ],
          "name": "stderr"
        },
        {
          "output_type": "stream",
          "text": [
            "\n",
            "Test phase: Average loss: 0.0285, Accuracy: 9917/10000 (99.17%)\n",
            "\n",
            "Epoch: 8\n"
          ],
          "name": "stdout"
        },
        {
          "output_type": "stream",
          "text": [
            "Train phase: Loss=0.14875923097133636 Batch_id=468 Accuracy=98.04: 100%|██████████| 469/469 [00:18<00:00, 25.91it/s]\n",
            "  0%|          | 0/469 [00:00<?, ?it/s]"
          ],
          "name": "stderr"
        },
        {
          "output_type": "stream",
          "text": [
            "\n",
            "Test phase: Average loss: 0.0282, Accuracy: 9920/10000 (99.20%)\n",
            "\n",
            "Epoch: 9\n"
          ],
          "name": "stdout"
        },
        {
          "output_type": "stream",
          "text": [
            "Train phase: Loss=0.13270510733127594 Batch_id=468 Accuracy=98.13: 100%|██████████| 469/469 [00:17<00:00, 26.73it/s]\n",
            "  0%|          | 0/469 [00:00<?, ?it/s]"
          ],
          "name": "stderr"
        },
        {
          "output_type": "stream",
          "text": [
            "\n",
            "Test phase: Average loss: 0.0277, Accuracy: 9920/10000 (99.20%)\n",
            "\n",
            "Epoch: 10\n"
          ],
          "name": "stdout"
        },
        {
          "output_type": "stream",
          "text": [
            "Train phase: Loss=0.17174860835075378 Batch_id=468 Accuracy=98.04: 100%|██████████| 469/469 [00:17<00:00, 26.83it/s]\n",
            "  0%|          | 0/469 [00:00<?, ?it/s]"
          ],
          "name": "stderr"
        },
        {
          "output_type": "stream",
          "text": [
            "\n",
            "Test phase: Average loss: 0.0279, Accuracy: 9920/10000 (99.20%)\n",
            "\n",
            "Epoch: 11\n"
          ],
          "name": "stdout"
        },
        {
          "output_type": "stream",
          "text": [
            "Train phase: Loss=0.1931842863559723 Batch_id=468 Accuracy=98.00: 100%|██████████| 469/469 [00:17<00:00, 26.58it/s]\n",
            "  0%|          | 0/469 [00:00<?, ?it/s]"
          ],
          "name": "stderr"
        },
        {
          "output_type": "stream",
          "text": [
            "\n",
            "Test phase: Average loss: 0.0279, Accuracy: 9922/10000 (99.22%)\n",
            "\n",
            "Epoch: 12\n"
          ],
          "name": "stdout"
        },
        {
          "output_type": "stream",
          "text": [
            "Train phase: Loss=0.23844864964485168 Batch_id=468 Accuracy=98.03: 100%|██████████| 469/469 [00:17<00:00, 26.48it/s]\n",
            "  0%|          | 0/469 [00:00<?, ?it/s]"
          ],
          "name": "stderr"
        },
        {
          "output_type": "stream",
          "text": [
            "\n",
            "Test phase: Average loss: 0.0276, Accuracy: 9918/10000 (99.18%)\n",
            "\n",
            "Epoch: 13\n"
          ],
          "name": "stdout"
        },
        {
          "output_type": "stream",
          "text": [
            "Train phase: Loss=0.16120746731758118 Batch_id=468 Accuracy=98.02: 100%|██████████| 469/469 [00:18<00:00, 25.88it/s]\n",
            "  0%|          | 0/469 [00:00<?, ?it/s]"
          ],
          "name": "stderr"
        },
        {
          "output_type": "stream",
          "text": [
            "\n",
            "Test phase: Average loss: 0.0279, Accuracy: 9917/10000 (99.17%)\n",
            "\n",
            "Epoch: 14\n"
          ],
          "name": "stdout"
        },
        {
          "output_type": "stream",
          "text": [
            "Train phase: Loss=0.13966986536979675 Batch_id=468 Accuracy=98.12: 100%|██████████| 469/469 [00:18<00:00, 25.18it/s]\n",
            "  0%|          | 0/469 [00:00<?, ?it/s]"
          ],
          "name": "stderr"
        },
        {
          "output_type": "stream",
          "text": [
            "\n",
            "Test phase: Average loss: 0.0282, Accuracy: 9920/10000 (99.20%)\n",
            "\n",
            "Epoch: 15\n"
          ],
          "name": "stdout"
        },
        {
          "output_type": "stream",
          "text": [
            "Train phase: Loss=0.15614330768585205 Batch_id=468 Accuracy=98.09: 100%|██████████| 469/469 [00:18<00:00, 25.04it/s]\n",
            "  0%|          | 0/469 [00:00<?, ?it/s]"
          ],
          "name": "stderr"
        },
        {
          "output_type": "stream",
          "text": [
            "\n",
            "Test phase: Average loss: 0.0273, Accuracy: 9920/10000 (99.20%)\n",
            "\n",
            "Epoch: 16\n"
          ],
          "name": "stdout"
        },
        {
          "output_type": "stream",
          "text": [
            "Train phase: Loss=0.1455582082271576 Batch_id=468 Accuracy=98.04: 100%|██████████| 469/469 [00:18<00:00, 25.93it/s]\n",
            "  0%|          | 0/469 [00:00<?, ?it/s]"
          ],
          "name": "stderr"
        },
        {
          "output_type": "stream",
          "text": [
            "\n",
            "Test phase: Average loss: 0.0275, Accuracy: 9919/10000 (99.19%)\n",
            "\n",
            "Epoch: 17\n"
          ],
          "name": "stdout"
        },
        {
          "output_type": "stream",
          "text": [
            "Train phase: Loss=0.21369612216949463 Batch_id=468 Accuracy=98.02: 100%|██████████| 469/469 [00:18<00:00, 26.03it/s]\n",
            "  0%|          | 0/469 [00:00<?, ?it/s]"
          ],
          "name": "stderr"
        },
        {
          "output_type": "stream",
          "text": [
            "\n",
            "Test phase: Average loss: 0.0275, Accuracy: 9920/10000 (99.20%)\n",
            "\n",
            "Epoch: 18\n"
          ],
          "name": "stdout"
        },
        {
          "output_type": "stream",
          "text": [
            "Train phase: Loss=0.24393051862716675 Batch_id=468 Accuracy=98.04: 100%|██████████| 469/469 [00:17<00:00, 26.61it/s]\n",
            "  0%|          | 0/469 [00:00<?, ?it/s]"
          ],
          "name": "stderr"
        },
        {
          "output_type": "stream",
          "text": [
            "\n",
            "Test phase: Average loss: 0.0276, Accuracy: 9920/10000 (99.20%)\n",
            "\n",
            "Epoch: 19\n"
          ],
          "name": "stdout"
        },
        {
          "output_type": "stream",
          "text": [
            "Train phase: Loss=0.12722985446453094 Batch_id=468 Accuracy=98.10: 100%|██████████| 469/469 [00:17<00:00, 26.23it/s]\n",
            "  0%|          | 0/469 [00:00<?, ?it/s]"
          ],
          "name": "stderr"
        },
        {
          "output_type": "stream",
          "text": [
            "\n",
            "Test phase: Average loss: 0.0280, Accuracy: 9918/10000 (99.18%)\n",
            "\n",
            "Epoch: 20\n"
          ],
          "name": "stdout"
        },
        {
          "output_type": "stream",
          "text": [
            "Train phase: Loss=0.1400957852602005 Batch_id=468 Accuracy=98.03: 100%|██████████| 469/469 [00:18<00:00, 25.00it/s]\n",
            "  0%|          | 0/469 [00:00<?, ?it/s]"
          ],
          "name": "stderr"
        },
        {
          "output_type": "stream",
          "text": [
            "\n",
            "Test phase: Average loss: 0.0273, Accuracy: 9921/10000 (99.21%)\n",
            "\n",
            "Epoch: 21\n"
          ],
          "name": "stdout"
        },
        {
          "output_type": "stream",
          "text": [
            "Train phase: Loss=0.1236644983291626 Batch_id=468 Accuracy=98.07: 100%|██████████| 469/469 [00:19<00:00, 24.68it/s]\n",
            "  0%|          | 0/469 [00:00<?, ?it/s]"
          ],
          "name": "stderr"
        },
        {
          "output_type": "stream",
          "text": [
            "\n",
            "Test phase: Average loss: 0.0274, Accuracy: 9921/10000 (99.21%)\n",
            "\n",
            "Epoch: 22\n"
          ],
          "name": "stdout"
        },
        {
          "output_type": "stream",
          "text": [
            "Train phase: Loss=0.20968689024448395 Batch_id=468 Accuracy=97.97: 100%|██████████| 469/469 [00:18<00:00, 25.32it/s]\n",
            "  0%|          | 0/469 [00:00<?, ?it/s]"
          ],
          "name": "stderr"
        },
        {
          "output_type": "stream",
          "text": [
            "\n",
            "Test phase: Average loss: 0.0275, Accuracy: 9922/10000 (99.22%)\n",
            "\n",
            "Epoch: 23\n"
          ],
          "name": "stdout"
        },
        {
          "output_type": "stream",
          "text": [
            "Train phase: Loss=0.1628108024597168 Batch_id=468 Accuracy=98.05: 100%|██████████| 469/469 [00:18<00:00, 26.04it/s]\n",
            "  0%|          | 0/469 [00:00<?, ?it/s]"
          ],
          "name": "stderr"
        },
        {
          "output_type": "stream",
          "text": [
            "\n",
            "Test phase: Average loss: 0.0281, Accuracy: 9919/10000 (99.19%)\n",
            "\n",
            "Epoch: 24\n"
          ],
          "name": "stdout"
        },
        {
          "output_type": "stream",
          "text": [
            "Train phase: Loss=0.1936246156692505 Batch_id=468 Accuracy=98.02: 100%|██████████| 469/469 [00:17<00:00, 26.42it/s]\n",
            "  0%|          | 0/469 [00:00<?, ?it/s]"
          ],
          "name": "stderr"
        },
        {
          "output_type": "stream",
          "text": [
            "\n",
            "Test phase: Average loss: 0.0280, Accuracy: 9917/10000 (99.17%)\n",
            "\n",
            "Epoch: 25\n"
          ],
          "name": "stdout"
        },
        {
          "output_type": "stream",
          "text": [
            "Train phase: Loss=0.1417277604341507 Batch_id=468 Accuracy=98.02: 100%|██████████| 469/469 [00:17<00:00, 26.35it/s]\n"
          ],
          "name": "stderr"
        },
        {
          "output_type": "stream",
          "text": [
            "\n",
            "Test phase: Average loss: 0.0276, Accuracy: 9919/10000 (99.19%)\n",
            "\n",
            "Number of incorrect images collected during test phase: 21\n",
            "Incorrect image predictions for NN with batch normalization, layer 1 and layer 2 regularization\n"
          ],
          "name": "stdout"
        },
        {
          "output_type": "display_data",
          "data": {
            "image/png": "[encoded data removed]",
            "text/plain": [
              "<Figure size 720x864 with 20 Axes>"
            ]
          },
          "metadata": {
            "tags": [],
            "needs_background": "light"
          }
        }
      ]
    },
    {
      "cell_type": "code",
      "metadata": {
        "id": "wngdFkn_1b5a",
        "colab": {
          "base_uri": "https://localhost:8080/",
          "height": 1000
        },
        "outputId": "24e9176a-04b7-4149-a40b-394a5119323e"
      },
      "source": [
        "import matplotlib.pyplot as plt\n",
        "def plot_train_test_loss_acc(train_test_loss_acc_group:TrainTestLossAccuracy, train_test_loss_acc_layer:TrainTestLossAccuracy, train_test_loss_acc_batch:TrainTestLossAccuracy):\n",
        "    ax_train_loss:AxesSubplot; ax_test_loss:AxesSubplot; ax_train_acc:AxesSubplot; ax_test_acc:AxesSubplot;\n",
        "    fig, (ax_train_loss, ax_test_loss,ax_train_acc,ax_test_acc) = plt.subplots(4,1, figsize=(10,40))\n",
        "\n",
        "    ax_train_loss.plot(train_test_loss_acc_group.train_loss_list, label=\"Group Norm + L1      Train loss\")\n",
        "    ax_train_loss.plot(train_test_loss_acc_layer.train_loss_list, label=\"Layer Norm + L2      Train loss\")\n",
        "    ax_train_loss.plot(train_test_loss_acc_batch.train_loss_list, label=\"Batch Norm + L1 + L2 Train loss\")\n",
        "    ax_train_loss.legend()\n",
        "    ax_train_loss.set_xlabel(\"Epoch\")\n",
        "    ax_train_loss.set_ylabel(\"Train Loss\")\n",
        "    ax_train_loss.set_title(\"Traning Losses\")\n",
        "    \n",
        "    ax_test_loss.plot(train_test_loss_acc_group.test_loss_list, label=\"Group Norm + L1      Test loss\")\n",
        "    ax_test_loss.plot(train_test_loss_acc_layer.test_loss_list, label=\"Layer Norm + L2      Test loss\")\n",
        "    ax_test_loss.plot(train_test_loss_acc_batch.test_loss_list, label=\"Batch Norm + L1 + L2 Test loss\")\n",
        "    ax_test_loss.legend()\n",
        "    ax_test_loss.set_xlabel(\"Epoch\")\n",
        "    ax_test_loss.set_ylabel(\"Test Loss\")\n",
        "    ax_test_loss.set_title(\"Test Losses\")\n",
        "\n",
        "    ax_train_acc.plot(train_test_loss_acc_group.train_acc_list, label=\"Group Norm + L1      Train accuracy\")\n",
        "    ax_train_acc.plot(train_test_loss_acc_layer.train_acc_list, label=\"Layer Norm + L2      Train accuracy\")\n",
        "    ax_train_acc.plot(train_test_loss_acc_batch.train_acc_list, label=\"Batch Norm + L1 + L2 Train accuracy\")\n",
        "    ax_train_acc.legend()\n",
        "    ax_train_acc.set_xlabel(\"Epoch\")\n",
        "    ax_train_acc.set_ylabel(\"Train Accuracy\")\n",
        "    ax_train_acc.set_title(\"Traning Accuracy\")\n",
        "\n",
        "    ax_test_acc.plot(train_test_loss_acc_group.test_acc_list, label=\"Group Norm + L1      Test accuracy\")\n",
        "    ax_test_acc.plot(train_test_loss_acc_layer.test_acc_list, label=\"Layer Norm + L2      Test accuracy\")\n",
        "    ax_test_acc.plot(train_test_loss_acc_batch.test_acc_list, label=\"Batch Norm + L1 + L2 Test accuracy\")\n",
        "    ax_test_acc.legend()\n",
        "    ax_test_acc.set_xlabel(\"Epoch\")\n",
        "    ax_test_acc.set_ylabel(\"Test Accuracy\")\n",
        "    ax_test_acc.set_title(\"Test Accuracy\")\n",
        "    \n",
        "    # plt.xlabel(\"Epoch\")\n",
        "    # plt.ylabel(\"Accuracy\")\n",
        "    plt.show()\n",
        "\n",
        "plot_train_test_loss_acc(train_test_loss_acc_group, train_test_loss_acc_layer, train_test_loss_acc_batch)\n",
        "# plot_train_test_loss_acc(TrainTestLossAccuracy(range(0,15), range(0,15), range(0,15), range(0,15)), \n",
        "#                          TrainTestLossAccuracy(range(1,16), range(1,16), range(1,16), range(1,16)), \n",
        "#                          TrainTestLossAccuracy(range(2,17), range(2,17), range(2,17), range(2,17)))"
      ],
      "execution_count": 12,
      "outputs": [
        {
          "output_type": "display_data",
          "data": {
            "image/png": "[encoded data removed]",
            "text/plain": [
              "<Figure size 720x2880 with 4 Axes>"
            ]
          },
          "metadata": {
            "tags": [],
            "needs_background": "light"
          }
        }
      ]
    }
  ]
}