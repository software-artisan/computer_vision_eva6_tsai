{
  "nbformat": 4,
  "nbformat_minor": 0,
  "metadata": {
    "colab": {
      "name": "assignment_5_8k_parameters_ver2.ipynb",
      "provenance": [],
      "collapsed_sections": [],
      "include_colab_link": true
    },
    "kernelspec": {
      "display_name": "Python 3",
      "name": "python3"
    },
    "accelerator": "GPU"
  },
  "cells": [
    {
      "cell_type": "markdown",
      "metadata": {
        "id": "view-in-github",
        "colab_type": "text"
      },
      "source": [
        "<a href=\"https://colab.research.google.com/github/software-artisan/computer_vision_eva6_tsai/blob/main/session_5_code_drill_down/assignment_5_8k_parameters_ver2.ipynb\" target=\"_parent\"><img src=\"https://colab.research.google.com/assets/colab-badge.svg\" alt=\"Open In Colab\"/></a>"
      ]
    },
    {
      "cell_type": "code",
      "metadata": {
        "id": "TpPYe-KP0ESK"
      },
      "source": [
        "import torch\n",
        "import torch.nn as nn\n",
        "import torch.nn.functional as F\n",
        "import torch.optim as optim\n",
        "from torchvision import datasets, transforms\n",
        "from collections import OrderedDict\n"
      ],
      "execution_count": null,
      "outputs": []
    },
    {
      "cell_type": "code",
      "metadata": {
        "id": "h_Cx9q2QFgM7"
      },
      "source": [
        "class Net(nn.Module):\n",
        "    def __init__(self):\n",
        "        super(Net, self).__init__()\n",
        "        \n",
        "        dropout=0.05\n",
        " \n",
        "        ####### \n",
        "        # Convolution Block #1\n",
        "        #########\n",
        "        self.conv1_1_3_3_8_p = nn.Sequential(OrderedDict([\n",
        "            ('conv1_1_3_3_8_p', nn.Conv2d(in_channels=1, out_channels=8, kernel_size=3, padding=1, bias=False)),\n",
        "            ('relu', nn.ReLU()),\n",
        "            ('batchNorm2d', nn.BatchNorm2d(num_features=8)),\n",
        "            ('dropOut2d', nn.Dropout2d(p=dropout))\n",
        "          ])\n",
        "        ) # Input=28, Output=28, rf=3\n",
        "\n",
        "        self.conv2_8_3_3_8_p = nn.Sequential(\n",
        "            nn.Conv2d(in_channels=8, out_channels=8, kernel_size=3, padding=1, bias=False),\n",
        "            nn.ReLU(),\n",
        "            nn.BatchNorm2d(num_features=8),\n",
        "            nn.Dropout2d(p=dropout)\n",
        "        ) # Input=28, Output=28, rf=5\n",
        " \n",
        "        self.conv3_8_3_3_8_p = nn.Sequential(\n",
        "            nn.Conv2d(in_channels=8, out_channels=8, kernel_size=3, padding=1, bias=False),\n",
        "            nn.ReLU(),\n",
        "            nn.BatchNorm2d(num_features=8),\n",
        "            nn.Dropout2d(p=dropout) \n",
        "        ) # Input=28, Output=28, rf=10\n",
        " \n",
        "        ####### \n",
        "        # Transition Block #1\n",
        "        #########\n",
        "        self.maxpool1 = nn.MaxPool2d(kernel_size=2, stride=2) # Input=28, Output=14, rf=6\n",
        " \n",
        "        self.conv4_8_1_1_16 = nn.Sequential(\n",
        "            #nn.Conv2d(in_channels=8, out_channels=16, kernel_size=3, padding=0, bias=False),\n",
        "            nn.Conv2d(in_channels=8, out_channels=12, kernel_size=1, padding=0, bias=False),\n",
        "        ) # Input=14, Output=14, rf=32\n",
        " \n",
        "        ####### \n",
        "        # Convolution Block #2\n",
        "        #########\n",
        "        self.conv5_12_3_3_12 = nn.Sequential(\n",
        "            nn.Conv2d(in_channels=12, out_channels=12, kernel_size=3, padding=0, bias=False),\n",
        "            nn.ReLU(),\n",
        "            nn.BatchNorm2d(num_features=12),\n",
        "            nn.Dropout2d(p=dropout)\n",
        "        ) # Input=14, Output=12, rf=14\n",
        " \n",
        "        self.conv6_12_3_3_12 = nn.Sequential(\n",
        "            #nn.Conv2d(in_channels=14, out_channels=14, kernel_size=3, padding=0, bias=False),\n",
        "            nn.Conv2d(in_channels=12, out_channels=12, kernel_size=3, padding=0, bias=False),\n",
        "            nn.ReLU(),\n",
        "            nn.BatchNorm2d(num_features=12),\n",
        "            nn.Dropout2d(p=dropout) # Input=12, Output=10, rf=24\n",
        "        )\n",
        "        \n",
        "        self.conv7_12_3_3_12 = nn.Sequential(\n",
        "            #nn.Conv2d(in_channels=14, out_channels=14, kernel_size=3, padding=0, bias=False),\n",
        "            nn.Conv2d(in_channels=12, out_channels=12, kernel_size=3, padding=0, bias=False),\n",
        "            nn.ReLU(),\n",
        "            nn.BatchNorm2d(num_features=12),\n",
        "            nn.Dropout2d(p=dropout) # Input=10, Output=8, rf=24\n",
        "        )\n",
        "        \n",
        "        self.conv8_12_3_3_12 = nn.Sequential(\n",
        "            #nn.Conv2d(in_channels=14, out_channels=14, kernel_size=3, padding=0, bias=False),\n",
        "            nn.Conv2d(in_channels=12, out_channels=12, kernel_size=3, padding=0, bias=False),\n",
        "            nn.ReLU(),\n",
        "            nn.BatchNorm2d(num_features=12),\n",
        "            nn.Dropout2d(p=dropout) \n",
        "        ) # Input=8, Output=6, rf=24\n",
        "\n",
        "        self.conv9_12_3_3_12 = nn.Sequential(\n",
        "            #nn.Conv2d(in_channels=14, out_channels=14, kernel_size=3, padding=0, bias=False),\n",
        "            nn.Conv2d(in_channels=12, out_channels=12, kernel_size=3, padding=0, bias=False),\n",
        "            nn.ReLU(),\n",
        "            nn.BatchNorm2d(num_features=12),\n",
        "            nn.Dropout2d(p=dropout) \n",
        "        ) # Input=6, Output=4, rf=24\n",
        "        \n",
        "        self.maxpool2= nn.MaxPool2d(kernel_size=2, stride=2) # Input=4, Output=2, rf=16\n",
        " \n",
        "        ####### \n",
        "        # Output Block\n",
        "        #########\n",
        "        # global average pool before 1x1 to reduce computation\n",
        "        self.global_avgpool = nn.AdaptiveAvgPool2d(output_size=1)  # Input=5, Output=1, rf=40\n",
        " \n",
        "        self.conv10_16_1_1_10 = nn.Sequential(\n",
        "            #nn.Conv2d(in_channels=14, out_channels=10, kernel_size=3, padding=0, bias=False),\n",
        "            nn.Conv2d(in_channels=12, out_channels=10, kernel_size=1, padding=0, bias=False),\n",
        "        ) # Input=1, Output=1, rf=32\n",
        "    \n",
        "    def forward(self, x):\n",
        "        #####\n",
        "        # conv block #1\n",
        "        ########\n",
        "        x = self.conv1_1_3_3_8_p(x)\n",
        "        x = self.conv2_8_3_3_8_p(x)\n",
        "        x = self.conv3_8_3_3_8_p(x)\n",
        " \n",
        "        #####\n",
        "        # Transitioni block #1\n",
        "        ########\n",
        "        x = self.maxpool1(x)\n",
        "        x = self.conv4_8_1_1_16(x)\n",
        " \n",
        "        #####\n",
        "        # conv block #2\n",
        "        ########\n",
        "        x = self.conv5_12_3_3_12(x)\n",
        "        x = self.conv6_12_3_3_12(x)\n",
        "        x = self.conv7_12_3_3_12(x)\n",
        "        x = self.conv8_12_3_3_12(x)\n",
        "        x = self.conv9_12_3_3_12(x)\n",
        "\n",
        "        #######\n",
        "        # Transition block #2\n",
        "        #######\n",
        "        x = self.maxpool2(x)\n",
        " \n",
        "        #####\n",
        "        # output block\n",
        "        ########\n",
        "        x = self.global_avgpool(x)        \n",
        "        x = self.conv10_16_1_1_10(x)\n",
        "               \n",
        "        x = x.view(-1, 10)\n",
        "        return F.log_softmax(x)"
      ],
      "execution_count": null,
      "outputs": []
    },
    {
      "cell_type": "code",
      "metadata": {
        "colab": {
          "base_uri": "https://localhost:8080/"
        },
        "id": "xdydjYTZFyi3",
        "outputId": "d4b2c074-baa6-42b7-d52b-80b8b720b31c"
      },
      "source": [
        "!pip install torchsummary\n",
        "from torchsummary import summary\n",
        "use_cuda = torch.cuda.is_available()\n",
        "device = torch.device(\"cuda\" if use_cuda else \"cpu\")\n",
        "model = Net().to(device)\n",
        "summary(model, input_size=(1, 28, 28))"
      ],
      "execution_count": null,
      "outputs": [
        {
          "output_type": "stream",
          "text": [
            "Requirement already satisfied: torchsummary in /usr/local/lib/python3.7/dist-packages (1.5.1)\n",
            "----------------------------------------------------------------\n",
            "        Layer (type)               Output Shape         Param #\n",
            "================================================================\n",
            "            Conv2d-1            [-1, 8, 28, 28]              72\n",
            "              ReLU-2            [-1, 8, 28, 28]               0\n",
            "       BatchNorm2d-3            [-1, 8, 28, 28]              16\n",
            "         Dropout2d-4            [-1, 8, 28, 28]               0\n",
            "            Conv2d-5            [-1, 8, 28, 28]             576\n",
            "              ReLU-6            [-1, 8, 28, 28]               0\n",
            "       BatchNorm2d-7            [-1, 8, 28, 28]              16\n",
            "         Dropout2d-8            [-1, 8, 28, 28]               0\n",
            "            Conv2d-9            [-1, 8, 28, 28]             576\n",
            "             ReLU-10            [-1, 8, 28, 28]               0\n",
            "      BatchNorm2d-11            [-1, 8, 28, 28]              16\n",
            "        Dropout2d-12            [-1, 8, 28, 28]               0\n",
            "        MaxPool2d-13            [-1, 8, 14, 14]               0\n",
            "           Conv2d-14           [-1, 12, 14, 14]              96\n",
            "           Conv2d-15           [-1, 12, 12, 12]           1,296\n",
            "             ReLU-16           [-1, 12, 12, 12]               0\n",
            "      BatchNorm2d-17           [-1, 12, 12, 12]              24\n",
            "        Dropout2d-18           [-1, 12, 12, 12]               0\n",
            "           Conv2d-19           [-1, 12, 10, 10]           1,296\n",
            "             ReLU-20           [-1, 12, 10, 10]               0\n",
            "      BatchNorm2d-21           [-1, 12, 10, 10]              24\n",
            "        Dropout2d-22           [-1, 12, 10, 10]               0\n",
            "           Conv2d-23             [-1, 12, 8, 8]           1,296\n",
            "             ReLU-24             [-1, 12, 8, 8]               0\n",
            "      BatchNorm2d-25             [-1, 12, 8, 8]              24\n",
            "        Dropout2d-26             [-1, 12, 8, 8]               0\n",
            "           Conv2d-27             [-1, 12, 6, 6]           1,296\n",
            "             ReLU-28             [-1, 12, 6, 6]               0\n",
            "      BatchNorm2d-29             [-1, 12, 6, 6]              24\n",
            "        Dropout2d-30             [-1, 12, 6, 6]               0\n",
            "           Conv2d-31             [-1, 12, 4, 4]           1,296\n",
            "             ReLU-32             [-1, 12, 4, 4]               0\n",
            "      BatchNorm2d-33             [-1, 12, 4, 4]              24\n",
            "        Dropout2d-34             [-1, 12, 4, 4]               0\n",
            "        MaxPool2d-35             [-1, 12, 2, 2]               0\n",
            "AdaptiveAvgPool2d-36             [-1, 12, 1, 1]               0\n",
            "           Conv2d-37             [-1, 10, 1, 1]             120\n",
            "================================================================\n",
            "Total params: 8,088\n",
            "Trainable params: 8,088\n",
            "Non-trainable params: 0\n",
            "----------------------------------------------------------------\n",
            "Input size (MB): 0.00\n",
            "Forward/backward pass size (MB): 0.74\n",
            "Params size (MB): 0.03\n",
            "Estimated Total Size (MB): 0.77\n",
            "----------------------------------------------------------------\n"
          ],
          "name": "stdout"
        },
        {
          "output_type": "stream",
          "text": [
            "/usr/local/lib/python3.7/dist-packages/ipykernel_launcher.py:132: UserWarning: Implicit dimension choice for log_softmax has been deprecated. Change the call to include dim=X as an argument.\n"
          ],
          "name": "stderr"
        }
      ]
    },
    {
      "cell_type": "code",
      "metadata": {
        "id": "DqTWLaM5GHgH"
      },
      "source": [
        "# SEED=1 so that we use the same random images for training, during each mini batch, during each epoch\n",
        "SEED=1\n",
        "torch.manual_seed(SEED)\n",
        "\n",
        "batch_size = 128\n",
        "\n",
        "kwargs = {'num_workers': 1, 'pin_memory': True} if use_cuda else {}\n",
        "\n",
        "# download training data set: 50,000 images\n",
        "train_loader = torch.utils.data.DataLoader(\n",
        "    datasets.MNIST('../data', train=True, download=True,\n",
        "                    transform=transforms.Compose([\n",
        "                        transforms.RandomRotation((-7.0, 7.0), fill=(1,)),\n",
        "\n",
        "                        transforms.ToTensor(),\n",
        "                        transforms.Normalize((0.1307,), (0.3081,))\n",
        "                    ])),\n",
        "    batch_size=batch_size, shuffle=True, **kwargs)\n",
        "\n",
        "# download test data set: 10,000 images\n",
        "test_loader = torch.utils.data.DataLoader(\n",
        "    datasets.MNIST('../data', train=False, transform=transforms.Compose([\n",
        "                        transforms.ToTensor(),\n",
        "                        transforms.Normalize((0.1307,), (0.3081,))\n",
        "                    ])),\n",
        "    batch_size=batch_size, shuffle=True, **kwargs)\n"
      ],
      "execution_count": null,
      "outputs": []
    },
    {
      "cell_type": "code",
      "metadata": {
        "id": "8fDefDhaFlwH"
      },
      "source": [
        "from tqdm import tqdm\n",
        "\n",
        "train_losses = []\n",
        "test_losses = []\n",
        "train_acc = []\n",
        "test_acc = []\n",
        "\n",
        "def train(model, device, train_loader, optimizer):\n",
        "  model.train()\n",
        "  pbar = tqdm(train_loader)\n",
        "  correct = 0\n",
        "  processed = 0\n",
        "  for batch_idx, (data, y_target) in enumerate(pbar):\n",
        "    # get samples of 'batchsize'\n",
        "    data, y_target = data.to(device), y_target.to(device)\n",
        "\n",
        "    # So zero out the gradients before starting backpropragation because, without this, PyTorch accumulates gradients on subsequent backward passes. \n",
        "    optimizer.zero_grad()\n",
        "\n",
        "    # predict\n",
        "    y_pred = model(data)\n",
        "\n",
        "    # Calculate loss\n",
        "    loss = F.nll_loss(y_pred, y_target)     # negative log likelihood\n",
        "    train_losses.append(loss)\n",
        "    \n",
        "    loss.backward()  # do backpropagation across the graph:  dho(loss)/dho(weight)\n",
        "    optimizer.step() # adjust the weights\n",
        "\n",
        "    pred = y_pred.argmax(dim=1, keepdim=True)  # get the index of the max element\n",
        "    correct += pred.eq(y_target.view_as(pred)).sum().item()\n",
        "    processed += len(data)\n",
        "\n",
        "    pbar.set_description(desc= f'Train phase: Loss={loss.item()} Batch_id={batch_idx} Accuracy={100*correct/processed:0.2f}')\n",
        "  train_acc.append(100*correct/processed)\n",
        "\n",
        "def test(model, device, test_loader):\n",
        "    model.eval()\n",
        "    test_loss = 0\n",
        "    correct = 0\n",
        "    with torch.no_grad():\n",
        "        for data, y_target in test_loader:\n",
        "            data, y_target = data.to(device), y_target.to(device)\n",
        "            output = model(data)\n",
        "            test_loss += F.nll_loss(output, y_target, reduction='sum').item()  # sum up batch loss\n",
        "            pred = output.argmax(dim=1, keepdim=True)  # get the index of the max log-probability\n",
        "            correct += pred.eq(y_target.view_as(pred)).sum().item()\n",
        "\n",
        "    test_loss /= len(test_loader.dataset)\n",
        "    test_losses.append(test_loss)\n",
        "\n",
        "    print(f'\\nTest phase: Average loss: {test_loss:.4f}, Accuracy: {correct}/{len(test_loader.dataset)} ({100. * correct / len(test_loader.dataset):.2f}%)\\n')\n",
        "    \n",
        "    test_acc.append(100. * correct / len(test_loader.dataset))"
      ],
      "execution_count": null,
      "outputs": []
    },
    {
      "cell_type": "code",
      "metadata": {
        "colab": {
          "base_uri": "https://localhost:8080/"
        },
        "id": "MMWbLWO6FuHb",
        "outputId": "8e7a049f-5962-4143-d837-ca634b212a22"
      },
      "source": [
        "from torch.optim.lr_scheduler import StepLR\n",
        " \n",
        "model =  Net().to(device)\n",
        "optimizer = optim.SGD(model.parameters(), lr=0.04104, momentum=0.9)\n",
        "scheduler = StepLR(optimizer, step_size=2, gamma=0.09)   # after the specified 'step_size', scale(multiply) the current LR by the specified gamma..\n",
        " \n",
        "EPOCHS = 15\n",
        "for epoch in range(EPOCHS):\n",
        "    print(\"Epoch:\", epoch+1)\n",
        "    train(model, device, train_loader, optimizer)\n",
        "    test(model, device, test_loader)\n",
        "    if (epoch >= 8): scheduler.step()"
      ],
      "execution_count": null,
      "outputs": [
        {
          "output_type": "stream",
          "text": [
            "\r  0%|          | 0/469 [00:00<?, ?it/s]"
          ],
          "name": "stderr"
        },
        {
          "output_type": "stream",
          "text": [
            "Epoch: 1\n"
          ],
          "name": "stdout"
        },
        {
          "output_type": "stream",
          "text": [
            "/usr/local/lib/python3.7/dist-packages/ipykernel_launcher.py:132: UserWarning: Implicit dimension choice for log_softmax has been deprecated. Change the call to include dim=X as an argument.\n",
            "Train phase: Loss=0.16207543015480042 Batch_id=468 Accuracy=89.90: 100%|██████████| 469/469 [00:28<00:00, 16.48it/s]\n",
            "  0%|          | 0/469 [00:00<?, ?it/s]"
          ],
          "name": "stderr"
        },
        {
          "output_type": "stream",
          "text": [
            "\n",
            "Test phase: Average loss: 0.0614, Accuracy: 9812/10000 (98.12%)\n",
            "\n",
            "Epoch: 2\n"
          ],
          "name": "stdout"
        },
        {
          "output_type": "stream",
          "text": [
            "Train phase: Loss=0.08226000517606735 Batch_id=468 Accuracy=96.58: 100%|██████████| 469/469 [00:28<00:00, 16.47it/s]\n",
            "  0%|          | 0/469 [00:00<?, ?it/s]"
          ],
          "name": "stderr"
        },
        {
          "output_type": "stream",
          "text": [
            "\n",
            "Test phase: Average loss: 0.0460, Accuracy: 9860/10000 (98.60%)\n",
            "\n",
            "Epoch: 3\n"
          ],
          "name": "stdout"
        },
        {
          "output_type": "stream",
          "text": [
            "Train phase: Loss=0.050559911876916885 Batch_id=468 Accuracy=97.26: 100%|██████████| 469/469 [00:28<00:00, 16.57it/s]\n",
            "  0%|          | 0/469 [00:00<?, ?it/s]"
          ],
          "name": "stderr"
        },
        {
          "output_type": "stream",
          "text": [
            "\n",
            "Test phase: Average loss: 0.0356, Accuracy: 9895/10000 (98.95%)\n",
            "\n",
            "Epoch: 4\n"
          ],
          "name": "stdout"
        },
        {
          "output_type": "stream",
          "text": [
            "Train phase: Loss=0.09364146739244461 Batch_id=468 Accuracy=97.58: 100%|██████████| 469/469 [00:28<00:00, 16.73it/s]\n",
            "  0%|          | 0/469 [00:00<?, ?it/s]"
          ],
          "name": "stderr"
        },
        {
          "output_type": "stream",
          "text": [
            "\n",
            "Test phase: Average loss: 0.0331, Accuracy: 9908/10000 (99.08%)\n",
            "\n",
            "Epoch: 5\n"
          ],
          "name": "stdout"
        },
        {
          "output_type": "stream",
          "text": [
            "Train phase: Loss=0.12990759313106537 Batch_id=468 Accuracy=97.78: 100%|██████████| 469/469 [00:28<00:00, 16.62it/s]\n",
            "  0%|          | 0/469 [00:00<?, ?it/s]"
          ],
          "name": "stderr"
        },
        {
          "output_type": "stream",
          "text": [
            "\n",
            "Test phase: Average loss: 0.0314, Accuracy: 9897/10000 (98.97%)\n",
            "\n",
            "Epoch: 6\n"
          ],
          "name": "stdout"
        },
        {
          "output_type": "stream",
          "text": [
            "Train phase: Loss=0.02572879195213318 Batch_id=468 Accuracy=97.80: 100%|██████████| 469/469 [00:28<00:00, 16.71it/s]\n",
            "  0%|          | 0/469 [00:00<?, ?it/s]"
          ],
          "name": "stderr"
        },
        {
          "output_type": "stream",
          "text": [
            "\n",
            "Test phase: Average loss: 0.0301, Accuracy: 9917/10000 (99.17%)\n",
            "\n",
            "Epoch: 7\n"
          ],
          "name": "stdout"
        },
        {
          "output_type": "stream",
          "text": [
            "Train phase: Loss=0.081474669277668 Batch_id=468 Accuracy=98.10: 100%|██████████| 469/469 [00:28<00:00, 16.53it/s]\n",
            "  0%|          | 0/469 [00:00<?, ?it/s]"
          ],
          "name": "stderr"
        },
        {
          "output_type": "stream",
          "text": [
            "\n",
            "Test phase: Average loss: 0.0274, Accuracy: 9916/10000 (99.16%)\n",
            "\n",
            "Epoch: 8\n"
          ],
          "name": "stdout"
        },
        {
          "output_type": "stream",
          "text": [
            "Train phase: Loss=0.029412681236863136 Batch_id=468 Accuracy=98.11: 100%|██████████| 469/469 [00:28<00:00, 16.54it/s]\n",
            "  0%|          | 0/469 [00:00<?, ?it/s]"
          ],
          "name": "stderr"
        },
        {
          "output_type": "stream",
          "text": [
            "\n",
            "Test phase: Average loss: 0.0297, Accuracy: 9905/10000 (99.05%)\n",
            "\n",
            "Epoch: 9\n"
          ],
          "name": "stdout"
        },
        {
          "output_type": "stream",
          "text": [
            "Train phase: Loss=0.020261140540242195 Batch_id=468 Accuracy=98.19: 100%|██████████| 469/469 [00:28<00:00, 16.52it/s]\n",
            "  0%|          | 0/469 [00:00<?, ?it/s]"
          ],
          "name": "stderr"
        },
        {
          "output_type": "stream",
          "text": [
            "\n",
            "Test phase: Average loss: 0.0288, Accuracy: 9914/10000 (99.14%)\n",
            "\n",
            "Epoch: 10\n"
          ],
          "name": "stdout"
        },
        {
          "output_type": "stream",
          "text": [
            "Train phase: Loss=0.07269331067800522 Batch_id=468 Accuracy=98.24: 100%|██████████| 469/469 [00:28<00:00, 16.45it/s]\n",
            "  0%|          | 0/469 [00:00<?, ?it/s]"
          ],
          "name": "stderr"
        },
        {
          "output_type": "stream",
          "text": [
            "\n",
            "Test phase: Average loss: 0.0266, Accuracy: 9915/10000 (99.15%)\n",
            "\n",
            "Epoch: 11\n"
          ],
          "name": "stdout"
        },
        {
          "output_type": "stream",
          "text": [
            "Train phase: Loss=0.03265893831849098 Batch_id=468 Accuracy=98.49: 100%|██████████| 469/469 [00:28<00:00, 16.54it/s]\n",
            "  0%|          | 0/469 [00:00<?, ?it/s]"
          ],
          "name": "stderr"
        },
        {
          "output_type": "stream",
          "text": [
            "\n",
            "Test phase: Average loss: 0.0228, Accuracy: 9929/10000 (99.29%)\n",
            "\n",
            "Epoch: 12\n"
          ],
          "name": "stdout"
        },
        {
          "output_type": "stream",
          "text": [
            "Train phase: Loss=0.036436308175325394 Batch_id=468 Accuracy=98.59: 100%|██████████| 469/469 [00:28<00:00, 16.49it/s]\n",
            "  0%|          | 0/469 [00:00<?, ?it/s]"
          ],
          "name": "stderr"
        },
        {
          "output_type": "stream",
          "text": [
            "\n",
            "Test phase: Average loss: 0.0215, Accuracy: 9934/10000 (99.34%)\n",
            "\n",
            "Epoch: 13\n"
          ],
          "name": "stdout"
        },
        {
          "output_type": "stream",
          "text": [
            "Train phase: Loss=0.04511019587516785 Batch_id=468 Accuracy=98.73: 100%|██████████| 469/469 [00:28<00:00, 16.53it/s]\n",
            "  0%|          | 0/469 [00:00<?, ?it/s]"
          ],
          "name": "stderr"
        },
        {
          "output_type": "stream",
          "text": [
            "\n",
            "Test phase: Average loss: 0.0213, Accuracy: 9933/10000 (99.33%)\n",
            "\n",
            "Epoch: 14\n"
          ],
          "name": "stdout"
        },
        {
          "output_type": "stream",
          "text": [
            "Train phase: Loss=0.031505391001701355 Batch_id=468 Accuracy=98.72: 100%|██████████| 469/469 [00:28<00:00, 16.47it/s]\n",
            "  0%|          | 0/469 [00:00<?, ?it/s]"
          ],
          "name": "stderr"
        },
        {
          "output_type": "stream",
          "text": [
            "\n",
            "Test phase: Average loss: 0.0214, Accuracy: 9934/10000 (99.34%)\n",
            "\n",
            "Epoch: 15\n"
          ],
          "name": "stdout"
        },
        {
          "output_type": "stream",
          "text": [
            "Train phase: Loss=0.06899045407772064 Batch_id=468 Accuracy=98.61: 100%|██████████| 469/469 [00:28<00:00, 16.56it/s]\n"
          ],
          "name": "stderr"
        },
        {
          "output_type": "stream",
          "text": [
            "\n",
            "Test phase: Average loss: 0.0215, Accuracy: 9933/10000 (99.33%)\n",
            "\n"
          ],
          "name": "stdout"
        }
      ]
    },
    {
      "cell_type": "code",
      "metadata": {
        "id": "So5uk4EkHW6R"
      },
      "source": [
        "import matplotlib.pyplot as plt\n",
        "def plot_accuracy(train_accuracy_list, test_accuracy_list):\n",
        "    fig, axs = plt.subplots(figsize=(5,5))\n",
        "    axs.plot(train_acc, label=\"Train Accuracy\")\n",
        "    axs.plot(test_acc, label=\"Test Accuracy\")\n",
        "    axs.legend()\n",
        "    plt.xlabel(\"Epoch\")\n",
        "    plt.ylabel(\"Accuracy\")\n",
        "    plt.show()"
      ],
      "execution_count": null,
      "outputs": []
    },
    {
      "cell_type": "code",
      "metadata": {
        "id": "B4fOu5ms0eaf",
        "colab": {
          "base_uri": "https://localhost:8080/"
        },
        "outputId": "bfe0e288-b68a-41db-985d-71f86ec3ee88"
      },
      "source": [
        "plot_accuracy(train_acc, test_acc)"
      ],
      "execution_count": null,
      "outputs": [
        {
          "output_type": "display_data",
          "data": {
            "image/png": "[encoded data removed]",
            "text/plain": [
              "<Figure size 360x360 with 1 Axes>"
            ]
          },
          "metadata": {
            "tags": [],
            "needs_background": "light"
          }
        }
      ]
    },
    {
      "cell_type": "code",
      "metadata": {
        "id": "wngdFkn_1b5a"
      },
      "source": [
        ""
      ],
      "execution_count": null,
      "outputs": []
    }
  ]
}